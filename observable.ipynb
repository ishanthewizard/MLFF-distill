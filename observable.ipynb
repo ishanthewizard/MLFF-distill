{
 "cells": [
  {
   "cell_type": "code",
   "execution_count": 4,
   "metadata": {},
   "outputs": [
    {
     "data": {
      "application/vnd.jupyter.widget-view+json": {
       "model_id": "0a9770ac02cb4c6dbc91690e18d21e01",
       "version_major": 2,
       "version_minor": 0
      },
      "text/plain": [
       "NGLWidget(max_frame=4148)"
      ]
     },
     "metadata": {},
     "output_type": "display_data"
    }
   ],
   "source": [
    "import os\n",
    "import ase\n",
    "from ase.io import Trajectory\n",
    "from ase.visualize import view\n",
    "import nglview as nv\n",
    "import ipywidgets\n",
    "nv.__version__, ipywidgets.__version__\n",
    "md_dir = \"2024-09-18-20-05-36-solvated-gemSmall-DIST-n2n-correctemb\"\n",
    "traj = Trajectory(os.path.join(\"checkpoints\", md_dir, \"md.traj\"))\n",
    "nv.show_asetraj(traj)\n",
    "\n",
    "# TODO: basic stability check on the trajectory (based on bond length deviations)\n",
    "# How do we compute equilibrium bond lengths?\n"
   ]
  },
  {
   "cell_type": "code",
   "execution_count": null,
   "metadata": {},
   "outputs": [],
   "source": []
  }
 ],
 "metadata": {
  "kernelspec": {
   "display_name": "egap",
   "language": "python",
   "name": "python3"
  },
  "language_info": {
   "codemirror_mode": {
    "name": "ipython",
    "version": 3
   },
   "file_extension": ".py",
   "mimetype": "text/x-python",
   "name": "python",
   "nbconvert_exporter": "python",
   "pygments_lexer": "ipython3",
   "version": "3.10.14"
  }
 },
 "nbformat": 4,
 "nbformat_minor": 2
}
