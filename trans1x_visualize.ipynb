{
 "cells": [
  {
   "cell_type": "code",
   "execution_count": 1,
   "metadata": {},
   "outputs": [
    {
     "name": "stdout",
     "output_type": "stream",
     "text": [
      "323742\n"
     ]
    }
   ],
   "source": [
    "import torch \n",
    "from src.distill_datasets import SimpleDataset\n",
    "from fairchem.core.common.registry import registry\n",
    "import ase.io\n",
    "from ase.neighborlist import natural_cutoffs, NeighborList\n",
    "import gsd.hoomd\n",
    "from tqdm import tqdm\n",
    "import numpy as np\n",
    "import os\n",
    "\n",
    "\n",
    "dataset_path = \"/data/shared/ishan_stuff/transition1x/traj/train/CH4N2O_rxn4428.traj\"\n",
    "trajectory = ase.io.read(dataset_path, index=\":\")\n",
    "\n",
    "lmdb_path = \"/data/shared/ishan_stuff/transition1x/lmdb_3_5_0.1\"\n",
    "dataset = registry.get_dataset_class(\"lmdb\")({\"src\": os.path.join(lmdb_path, 'train')})\n",
    "print(len(dataset))\n",
    "\n",
    "labels_path = \"/data/shared/ishan_stuff/labels_unlocked/\"\n"
   ]
  },
  {
   "cell_type": "code",
   "execution_count": 2,
   "metadata": {},
   "outputs": [],
   "source": [
    "def save_ovito_traj(positions, bonds, filename):\n",
    "    \"\"\"\n",
    "    Save the given positions to a GSD file using Ovito.\n",
    "    \"\"\"\n",
    "\n",
    "    t = gsd.hoomd.open(name=filename, mode=\"w\")\n",
    "    cell = 5 * torch.eye(3) * positions.cpu().abs().max()\n",
    "\n",
    "    for i, (pos, bond) in tqdm(enumerate(zip(positions, bonds))):\n",
    "        t.append(create_frame(i, pos, cell, bond))\n",
    "\n",
    "    t.close()\n",
    "\n",
    "\n",
    "def create_frame(step, position, cell, bonds):\n",
    "    \"\"\"\n",
    "    Create an Ovito frame from the given positions.\n",
    "    \"\"\"\n",
    "    # Particle positions, velocities, diameter\n",
    "    # TODO: add option to add bonds between C and N atoms\n",
    "\n",
    "    natoms = position.shape[0]\n",
    "    position = torch.Tensor(position)\n",
    "    partpos = position.tolist()\n",
    "    diameter = 0.8 * np.ones((natoms,))\n",
    "    diameter = diameter.tolist()\n",
    "    # Now make gsd file\n",
    "    s = gsd.hoomd.Frame()\n",
    "    s.configuration.step = step\n",
    "    s.particles.N = natoms\n",
    "    s.particles.position = partpos\n",
    "    s.particles.diameter = diameter\n",
    "    s.configuration.box = [cell[0][0], cell[1][1], cell[2][2], 0, 0, 0]\n",
    "\n",
    "    s.bonds.N = bonds.shape[0]\n",
    "    s.bonds.group = bonds\n",
    "    return s"
   ]
  },
  {
   "cell_type": "code",
   "execution_count": 3,
   "metadata": {},
   "outputs": [
    {
     "name": "stderr",
     "output_type": "stream",
     "text": [
      "/tmp/ipykernel_2095256/1480962265.py:8: UserWarning: Creating a tensor from a list of numpy.ndarrays is extremely slow. Please consider converting the list to a single numpy.ndarray with numpy.array() before converting to a tensor. (Triggered internally at ../torch/csrc/utils/tensor_new.cpp:274.)\n",
      "  torch.tensor(NL.get_connectivity_matrix().todense().nonzero())\n"
     ]
    }
   ],
   "source": [
    "traj = torch.stack([torch.tensor(atom.get_positions()) for atom in trajectory])\n",
    "\n",
    "bonds = []\n",
    "for atoms in trajectory:\n",
    "    NL = NeighborList(natural_cutoffs(atoms), self_interaction=False)\n",
    "    NL.update(atoms)\n",
    "    bond = (\n",
    "        torch.tensor(NL.get_connectivity_matrix().todense().nonzero())\n",
    "        .T\n",
    "    )\n",
    "\n",
    "    bonds.append(bond)\n",
    "\n",
    "assert (len(traj) - 10) % 8 == 0\n",
    "\n",
    "traj = traj[13:][::8]\n",
    "bonds = bonds[13:][::8]\n"
   ]
  },
  {
   "cell_type": "code",
   "execution_count": 4,
   "metadata": {},
   "outputs": [
    {
     "name": "stderr",
     "output_type": "stream",
     "text": [
      "55it [00:00, 4839.95it/s]\n"
     ]
    }
   ],
   "source": [
    "save_ovito_traj(traj, bonds, \"trans1x.gsd\")"
   ]
  },
  {
   "cell_type": "code",
   "execution_count": 30,
   "metadata": {},
   "outputs": [],
   "source": [
    "chunked_traj = torch.chunk(traj, 10, dim=0)"
   ]
  },
  {
   "cell_type": "code",
   "execution_count": 31,
   "metadata": {},
   "outputs": [
    {
     "data": {
      "text/plain": [
       "tensor(0.1167, dtype=torch.float64)"
      ]
     },
     "execution_count": 31,
     "metadata": {},
     "output_type": "execute_result"
    }
   ],
   "source": [
    "torch.allclose(chunked_traj[0], chunked_traj[1], atol = 1e-3)\n",
    "(chunked_traj[0] - chunked_traj[1]).abs().max()"
   ]
  },
  {
   "cell_type": "code",
   "execution_count": null,
   "metadata": {},
   "outputs": [],
   "source": []
  }
 ],
 "metadata": {
  "kernelspec": {
   "display_name": "egap",
   "language": "python",
   "name": "python3"
  },
  "language_info": {
   "codemirror_mode": {
    "name": "ipython",
    "version": 3
   },
   "file_extension": ".py",
   "mimetype": "text/x-python",
   "name": "python",
   "nbconvert_exporter": "python",
   "pygments_lexer": "ipython3",
   "version": "3.10.14"
  }
 },
 "nbformat": 4,
 "nbformat_minor": 2
}
