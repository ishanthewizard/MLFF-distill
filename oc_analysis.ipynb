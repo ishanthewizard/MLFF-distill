{
 "cells": [
  {
   "cell_type": "code",
   "execution_count": 1,
   "id": "627b9dbc-dd02-4521-b1bb-b0fbec60d59b",
   "metadata": {},
   "outputs": [],
   "source": [
    "import os\n",
    "import pickle\n",
    "from fairchem.core.common.registry import registry\n",
    "# from mp_api.client import MPRester\n",
    "# from ase.io import read\n",
    "from src.distill_datasets import SimpleDataset\n",
    "from tqdm import tqdm\n",
    "import torch\n",
    "import numpy as np\n",
    "import lmdb\n",
    "from torch.utils.data import Subset\n"
   ]
  },
  {
   "cell_type": "code",
   "execution_count": 59,
   "id": "f5616e1e-d13e-471b-b513-3e54b141216d",
   "metadata": {},
   "outputs": [],
   "source": [
    "# main_path = '/pscratch/sd/i/ishan_a/OC20_seperated/Nonmetals_N_in_adsorbate'\n",
    "main_path = '/data/ishan-amin/OC20_seperated/Halides'\n",
    "# val = os.path.join(main_path, 'val')\n",
    "# # test = os.path.join(main_path, 'test')\n",
    "\n",
    "train_dataset = registry.get_dataset_class(\"lmdb\")({\"src\": os.path.join(main_path, 'train')})\n",
    "val_dataset = registry.get_dataset_class(\"lmdb\")({\"src\": os.path.join(main_path, 'val')})\n",
    "test_dataset =   registry.get_dataset_class(\"lmdb\")({\"src\": os.path.join(main_path, 'test')})"
   ]
  },
  {
   "cell_type": "code",
   "execution_count": null,
   "id": "7c1a289d-d489-4650-8b91-7ef2c7b92426",
   "metadata": {},
   "outputs": [],
   "source": [
    "# Iterate through the dataset and categorize samples by 'dataset_name'\n",
    "for sample in tqdm(tr_dataset, desc=\"Processing samples\"):\n",
    "    key = \"random\" + str(sample.sid)\n",
    "    assert data_dict[key]['class'] == 3 # is a halide\n",
    "        # categorized_samples[\"Halides\"].append(sample)"
   ]
  },
  {
   "cell_type": "code",
   "execution_count": 43,
   "id": "fcd21f8c-dae2-42f0-9d33-cedbdfb9be36",
   "metadata": {},
   "outputs": [
    {
     "name": "stderr",
     "output_type": "stream",
     "text": [
      "100%|████████████████████████████████████████████████████████████████████████████████████████████████████████████████████████████| 73537/73537 [00:23<00:00, 3132.64it/s]"
     ]
    },
    {
     "name": "stdout",
     "output_type": "stream",
     "text": [
      "17572\n"
     ]
    },
    {
     "name": "stderr",
     "output_type": "stream",
     "text": [
      "\n"
     ]
    }
   ],
   "source": [
    "seen_systemids_train = set()\n",
    "for sample in tqdm(train_dataset):\n",
    "    seen_systemids_train.add(sample.sid)\n",
    "print(len(seen_systemids_train))"
   ]
  },
  {
   "cell_type": "code",
   "execution_count": 60,
   "id": "4ba47859-9ca8-4107-b82b-29effe32539c",
   "metadata": {},
   "outputs": [
    {
     "name": "stderr",
     "output_type": "stream",
     "text": [
      "100%|██████████████████████████████████████████████████████████████████████████████████████████████████████████████████████████████| 8171/8171 [00:02<00:00, 3099.61it/s]"
     ]
    },
    {
     "name": "stdout",
     "output_type": "stream",
     "text": [
      "6296\n"
     ]
    },
    {
     "name": "stderr",
     "output_type": "stream",
     "text": [
      "\n"
     ]
    }
   ],
   "source": [
    "seen_systemids_val = set()\n",
    "for sample in tqdm(val_dataset):\n",
    "    seen_systemids_val.add(sample.sid)\n",
    "print(len(seen_systemids_val))"
   ]
  },
  {
   "cell_type": "code",
   "execution_count": 61,
   "id": "74e7fba7-3acb-40b9-b109-16bbe04a204f",
   "metadata": {},
   "outputs": [
    {
     "name": "stdout",
     "output_type": "stream",
     "text": [
      "UNSEEN sids: 210\n"
     ]
    }
   ],
   "source": [
    "count = 0\n",
    "for sid in seen_systemids_val:\n",
    "    if sid not in seen_systemids_train:\n",
    "        count += 1\n",
    "print(\"UNSEEN sids:\", count)"
   ]
  },
  {
   "cell_type": "code",
   "execution_count": 44,
   "id": "2279030a-17bc-45d3-b842-4c476978df4b",
   "metadata": {},
   "outputs": [
    {
     "name": "stdout",
     "output_type": "stream",
     "text": [
      "41587\n"
     ]
    },
    {
     "name": "stderr",
     "output_type": "stream",
     "text": [
      "100%|████████████████████████████████████████████████████████████████████████████████████████████████████████████████████████████| 41587/41587 [00:13<00:00, 3030.77it/s]"
     ]
    },
    {
     "name": "stdout",
     "output_type": "stream",
     "text": [
      "2055\n"
     ]
    },
    {
     "name": "stderr",
     "output_type": "stream",
     "text": [
      "\n"
     ]
    }
   ],
   "source": [
    "seen_systemids_test = set()\n",
    "print(len(test_dataset))\n",
    "for sample in tqdm(test_dataset):\n",
    "    seen_systemids_test.add(sample.sid)\n",
    "print(len(seen_systemids_test))"
   ]
  },
  {
   "cell_type": "code",
   "execution_count": null,
   "id": "808c6236-1a9c-46a4-a659-e020e96b267c",
   "metadata": {},
   "outputs": [],
   "source": []
  },
  {
   "cell_type": "code",
   "execution_count": 51,
   "id": "b84e15df-c2ea-4865-bf84-40696c604b24",
   "metadata": {},
   "outputs": [
    {
     "name": "stdout",
     "output_type": "stream",
     "text": [
      "UNSEEN sids: 2055\n"
     ]
    }
   ],
   "source": [
    "count = 0\n",
    "for sid in seen_systemids_test:\n",
    "    if sid not in seen_systemids_train:\n",
    "        count += 1\n",
    "print(\"UNSEEN sids:\", count)"
   ]
  },
  {
   "cell_type": "code",
   "execution_count": 52,
   "id": "b236a9de-4729-443c-9965-5399d42f8b7d",
   "metadata": {},
   "outputs": [],
   "source": [
    "pickle_file = 'labels/oc20_data_mapping.pkl'\n",
    "with open(pickle_file, 'rb') as f:\n",
    "    data_dict = pickle.load(f)"
   ]
  },
  {
   "cell_type": "code",
   "execution_count": 53,
   "id": "f2217f52-0d54-4478-a62c-adf6ea337e15",
   "metadata": {},
   "outputs": [
    {
     "name": "stdout",
     "output_type": "stream",
     "text": [
      "73537\n"
     ]
    },
    {
     "name": "stderr",
     "output_type": "stream",
     "text": [
      "100%|████████████████████████████████████████████████████████████████████████████████████████████████████████████████████████████| 73537/73537 [00:24<00:00, 3036.10it/s]"
     ]
    },
    {
     "name": "stdout",
     "output_type": "stream",
     "text": [
      "68\n"
     ]
    },
    {
     "name": "stderr",
     "output_type": "stream",
     "text": [
      "\n"
     ]
    }
   ],
   "source": [
    "seen_adsorbates_train = set()\n",
    "print(len(train_dataset))\n",
    "for sample in tqdm(train_dataset):\n",
    "    key = \"random\" + str(sample.sid)\n",
    "    seen_adsorbates_train.add(data_dict[key]['ads_id'])\n",
    "print(len(seen_adsorbates_train))"
   ]
  },
  {
   "cell_type": "code",
   "execution_count": 46,
   "id": "ba008ad2-7c5e-406b-aade-d61af74bb839",
   "metadata": {},
   "outputs": [
    {
     "name": "stdout",
     "output_type": "stream",
     "text": [
      "41587\n"
     ]
    },
    {
     "name": "stderr",
     "output_type": "stream",
     "text": [
      "100%|████████████████████████████████████████████████████████████████████████████████████████████████████████████████████████████| 41587/41587 [00:13<00:00, 2975.41it/s]"
     ]
    },
    {
     "name": "stdout",
     "output_type": "stream",
     "text": [
      "68\n"
     ]
    },
    {
     "name": "stderr",
     "output_type": "stream",
     "text": [
      "\n"
     ]
    }
   ],
   "source": [
    "seen_adsorbates_test = set()\n",
    "print(len(test_dataset))\n",
    "for sample in tqdm(test_dataset):\n",
    "    key = \"random\" + str(sample.sid)\n",
    "    seen_adsorbates_test.add(data_dict[key]['ads_id'])\n",
    "print(len(seen_adsorbates_test))"
   ]
  },
  {
   "cell_type": "code",
   "execution_count": 54,
   "id": "ad0cc4d5-e4b0-4e62-85f8-915a7676fb4e",
   "metadata": {},
   "outputs": [
    {
     "name": "stdout",
     "output_type": "stream",
     "text": [
      "0\n"
     ]
    }
   ],
   "source": [
    "count = 0\n",
    "for ads in seen_adsorbates_test:\n",
    "    if ads not in seen_adsorbates_train:\n",
    "        count += 1\n",
    "print(count)"
   ]
  },
  {
   "cell_type": "code",
   "execution_count": 55,
   "id": "62ad04f4-89d0-4577-bbcf-86e2aaad762c",
   "metadata": {},
   "outputs": [
    {
     "name": "stdout",
     "output_type": "stream",
     "text": [
      "73537\n"
     ]
    },
    {
     "name": "stderr",
     "output_type": "stream",
     "text": [
      "100%|████████████████████████████████████████████████████████████████████████████████████████████████████████████████████████████| 73537/73537 [00:23<00:00, 3084.90it/s]"
     ]
    },
    {
     "name": "stdout",
     "output_type": "stream",
     "text": [
      "418\n"
     ]
    },
    {
     "name": "stderr",
     "output_type": "stream",
     "text": [
      "\n"
     ]
    }
   ],
   "source": [
    "seen_bulk_train = set()\n",
    "print(len(train_dataset))\n",
    "for sample in tqdm(train_dataset):\n",
    "    key = \"random\" + str(sample.sid)\n",
    "    seen_bulk_train.add(data_dict[key]['bulk_id'])\n",
    "print(len(seen_bulk_train))"
   ]
  },
  {
   "cell_type": "code",
   "execution_count": 56,
   "id": "93f29728-ef9c-4587-aa98-78917b7d12ba",
   "metadata": {},
   "outputs": [
    {
     "name": "stdout",
     "output_type": "stream",
     "text": [
      "41587\n"
     ]
    },
    {
     "name": "stderr",
     "output_type": "stream",
     "text": [
      "100%|████████████████████████████████████████████████████████████████████████████████████████████████████████████████████████████| 41587/41587 [00:14<00:00, 2940.20it/s]"
     ]
    },
    {
     "name": "stdout",
     "output_type": "stream",
     "text": [
      "367\n"
     ]
    },
    {
     "name": "stderr",
     "output_type": "stream",
     "text": [
      "\n"
     ]
    }
   ],
   "source": [
    "seen_bulk_test = set()\n",
    "print(len(test_dataset))\n",
    "for sample in tqdm(test_dataset):\n",
    "    key = \"random\" + str(sample.sid)\n",
    "    seen_bulk_test.add(data_dict[key]['bulk_id'])\n",
    "print(len(seen_bulk_test))"
   ]
  },
  {
   "cell_type": "code",
   "execution_count": 57,
   "id": "8432457e-8163-4b99-b65a-77b490ea244f",
   "metadata": {},
   "outputs": [
    {
     "name": "stdout",
     "output_type": "stream",
     "text": [
      "1\n"
     ]
    }
   ],
   "source": [
    "count = 0\n",
    "for ads in seen_bulk_test:\n",
    "    if ads not in seen_bulk_train:\n",
    "        count += 1\n",
    "print(count)"
   ]
  }
 ],
 "metadata": {
  "kernelspec": {
   "display_name": "Python 3 (ipykernel)",
   "language": "python",
   "name": "python3"
  },
  "language_info": {
   "codemirror_mode": {
    "name": "ipython",
    "version": 3
   },
   "file_extension": ".py",
   "mimetype": "text/x-python",
   "name": "python",
   "nbconvert_exporter": "python",
   "pygments_lexer": "ipython3",
   "version": "3.10.14"
  }
 },
 "nbformat": 4,
 "nbformat_minor": 5
}
