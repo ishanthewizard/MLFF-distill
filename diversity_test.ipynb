{
 "cells": [
  {
   "cell_type": "code",
   "execution_count": 1,
   "metadata": {},
   "outputs": [
    {
     "data": {
      "application/vnd.jupyter.widget-view+json": {
       "model_id": "9310b1eb797a4710ba99aa7353cc3806",
       "version_major": 2,
       "version_minor": 0
      },
      "text/plain": []
     },
     "metadata": {},
     "output_type": "display_data"
    }
   ],
   "source": [
    "import os\n",
    "import torch\n",
    "import nglview as nv\n",
    "from ase.io import read\n",
    "from fairchem.core.datasets.ase_datasets import AseDBDataset\n",
    "from src_v2.distill_datasets import LmdbDataset"
   ]
  },
  {
   "cell_type": "markdown",
   "metadata": {},
   "source": [
    "## main pipeline for getting diverse atoms idxs"
   ]
  },
  {
   "cell_type": "code",
   "execution_count": 6,
   "metadata": {},
   "outputs": [],
   "source": [
    "set_num = 3\n",
    "parent_path = '/data/christine/esen_final_node_embedding'\n",
    "paths = [\n",
    "    '/data/ishan-amin/OMOL/TOY/ligand_pocket_300/train', # plp300 train\n",
    "    '/data/ishan-amin/OMOL/TOY/ligand_pocket_300/val', # plp300 val\n",
    "    '/data/ishan-amin/OMOL/4M/subsets/OMol_subset/protein_ligand_pockets_train_4M', # plp 20k train\n",
    "    '/data/ishan-amin/OMOL/4M/subsets/OMol_subset/protein_ligand_pockets_val' # plp 20k val\n",
    "]\n",
    "\n",
    "info_paths = [\n",
    "    'plp300_train_unshuffled',\n",
    "    'plp300_eval_unshuffled',\n",
    "    'plp20k_train_unshuffled',\n",
    "    'plp20k_eval_unshuffled'\n",
    "]\n",
    "\n",
    "path = paths[set_num]\n",
    "info_path = info_paths[set_num]"
   ]
  },
  {
   "cell_type": "code",
   "execution_count": 7,
   "metadata": {},
   "outputs": [
    {
     "name": "stdout",
     "output_type": "stream",
     "text": [
      "92808\n"
     ]
    }
   ],
   "source": [
    "a2g_args = {  \n",
    "    # \"molecule_cell_size\": 120.0,\n",
    "    \"r_energy\": True,\n",
    "    \"r_forces\": True,\n",
    "}\n",
    "dataset = AseDBDataset({\n",
    "                        \"src\": path,\n",
    "                        \"a2g_args\": a2g_args,\n",
    "                        })\n",
    "print(len(dataset))"
   ]
  },
  {
   "cell_type": "code",
   "execution_count": 8,
   "metadata": {},
   "outputs": [
    {
     "name": "stdout",
     "output_type": "stream",
     "text": [
      "306\n",
      "297\n",
      "273\n",
      "273\n",
      "247\n",
      "247\n",
      "205\n",
      "205\n",
      "147\n",
      "147\n",
      "100\n",
      "100\n",
      "328\n",
      "266\n",
      "266\n"
     ]
    }
   ],
   "source": [
    "for i in range(15):\n",
    "    print(len(dataset[i].atomic_numbers))"
   ]
  },
  {
   "cell_type": "code",
   "execution_count": 59,
   "metadata": {},
   "outputs": [
    {
     "data": {
      "text/plain": [
       "35"
      ]
     },
     "execution_count": 59,
     "metadata": {},
     "output_type": "execute_result"
    }
   ],
   "source": [
    "# min([len(dataset[i].atomic_numbers) for i in range(len(dataset))]) # 350 for plp20k train, also 350 for plp20k eval"
   ]
  },
  {
   "cell_type": "code",
   "execution_count": 9,
   "metadata": {},
   "outputs": [
    {
     "name": "stdout",
     "output_type": "stream",
     "text": [
      "92808\n"
     ]
    }
   ],
   "source": [
    "whole_path = f'{parent_path}/{info_path}'\n",
    "num_batches = len(os.listdir(whole_path)) // 2  # since this contains x_message and batch\n",
    "x_all = []\n",
    "for b in range(num_batches):\n",
    "    x_message = torch.load(f\"{whole_path}/x_message_{b}.pt\", map_location=\"cpu\")\n",
    "    batch = torch.load(f\"{whole_path}/batch_{b}.pt\", map_location=\"cpu\")\n",
    "    x_parts = [x_message[batch == i] for i in range(max(batch) + 1)]\n",
    "    x_all.extend(x_parts)\n",
    "\n",
    "print(len(x_all))"
   ]
  },
  {
   "cell_type": "code",
   "execution_count": 46,
   "metadata": {},
   "outputs": [
    {
     "name": "stdout",
     "output_type": "stream",
     "text": [
      "30\n",
      "0\n"
     ]
    }
   ],
   "source": [
    "diverse_idxs = []\n",
    "for x in x_all:\n",
    "    # Step 2: Compute pairwise L2 distance matrix [201, 201]\n",
    "    # (Optional: use other distances like cosine if preferred)\n",
    "    diffs = x[:, None, :] - x[None, :, :]  # shape (201, 201, 128)\n",
    "    dists = torch.norm(diffs, dim=2)       # shape (201, 201)\n",
    "    num_points = x.shape[0] // 10\n",
    "\n",
    "    # Step 3: Greedy Max-Min Diversity selection\n",
    "    selected = [torch.randint(0, len(x), (1,)).item()]  # Start from a random point\n",
    "    remaining = set(range(len(x))) - set(selected)\n",
    "\n",
    "    for _ in range(num_points - 1):\n",
    "        # For each remaining candidate, get the distance to the closest already selected point\n",
    "        candidate_to_min_dist = [\n",
    "            (i, torch.min(dists[i, selected]).item()) for i in remaining\n",
    "        ]\n",
    "        # Pick the candidate with the **maximum** of these minimum distances\n",
    "        next_idx = max(candidate_to_min_dist, key=lambda t: t[1])[0]\n",
    "        selected.append(next_idx)\n",
    "        remaining.remove(next_idx)\n",
    "\n",
    "    diverse_idxs.append(selected)\n",
    "\n",
    "print(len(diverse_idxs))"
   ]
  },
  {
   "cell_type": "code",
   "execution_count": 18,
   "metadata": {},
   "outputs": [
    {
     "name": "stdout",
     "output_type": "stream",
     "text": [
      "num atoms: 328\n"
     ]
    },
    {
     "data": {
      "application/vnd.jupyter.widget-view+json": {
       "model_id": "e6eefbf04a2d423b84e0cc14fad4e1a3",
       "version_major": 2,
       "version_minor": 0
      },
      "text/plain": [
       "NGLWidget()"
      ]
     },
     "metadata": {},
     "output_type": "display_data"
    }
   ],
   "source": [
    "atom_num = 12\n",
    "atoms = read(f'plp300_eval_data_unshuffled/{atom_num}.xyz') # need to manually enter data directory here\n",
    "\n",
    "closest_arr = diverse_idxs[atom_num]\n",
    "comma_separated_string = ','.join(str(i) for i in closest_arr)\n",
    "\n",
    "viewer = nv.show_ase(atoms)\n",
    "\n",
    "# Clear default representations\n",
    "viewer.clear()\n",
    "\n",
    "# Add spacefill for magnesium\n",
    "# viewer.add_representation('spacefill', selection='_Mg', radius=radius, opacity=0.5)\n",
    "\n",
    "# Add ball+stick for all atoms except index 4 (NGLView uses 1-based indexing, so index 4 -> 5)\n",
    "arr = str([_ for _ in range(100)])\n",
    "\n",
    "viewer.add_representation('ball+stick', selection=f'@{comma_separated_string}', radius=0.2, bondRadius=0.01)\n",
    "viewer.add_representation('ball+stick', selection='*', radius=0.2, bondRadius=0.01, opacity=0.15)\n",
    "\n",
    "print(f'num atoms: {len(atoms)}')\n",
    "# Display the viewer\n",
    "display(viewer)"
   ]
  },
  {
   "cell_type": "code",
   "execution_count": 14,
   "metadata": {},
   "outputs": [],
   "source": [
    "div_idxs_tensor = torch.tensor(diverse_idxs)\n",
    "torch.save(div_idxs_tensor, \"not_diverse_idxs_plp300_eval.pt\")"
   ]
  },
  {
   "cell_type": "code",
   "execution_count": null,
   "metadata": {},
   "outputs": [],
   "source": [
    "# other testing stuff below here"
   ]
  },
  {
   "cell_type": "code",
   "execution_count": 4,
   "metadata": {},
   "outputs": [
    {
     "data": {
      "text/plain": [
       "torch.Size([300, 15])"
      ]
     },
     "execution_count": 4,
     "metadata": {},
     "output_type": "execute_result"
    }
   ],
   "source": [
    "random_indices_list = []\n",
    "for i in range(300):\n",
    "    n = len(dataset[i].atomic_numbers)\n",
    "    indices = torch.randperm(n)[:15]\n",
    "    random_indices_list.append(indices)\n",
    "\n",
    "random_indices = torch.stack(random_indices_list)  # Shape: [300, 15]\n",
    "random_indices.shape"
   ]
  },
  {
   "cell_type": "code",
   "execution_count": 5,
   "metadata": {},
   "outputs": [],
   "source": [
    "# torch.save(random_indices, 'random_idxs_plp300_eval.pt')"
   ]
  },
  {
   "cell_type": "code",
   "execution_count": 88,
   "metadata": {},
   "outputs": [
    {
     "data": {
      "text/plain": [
       "False"
      ]
     },
     "execution_count": 88,
     "metadata": {},
     "output_type": "execute_result"
    }
   ],
   "source": [
    "any(dataset[i].charge for i in range(len(dataset)))"
   ]
  },
  {
   "cell_type": "markdown",
   "metadata": {},
   "source": [
    "## checking results"
   ]
  },
  {
   "cell_type": "code",
   "execution_count": 2,
   "metadata": {},
   "outputs": [],
   "source": [
    "test = torch.load('/data/christine/esen_final_node_embedding/diverse_idxs_plp20k_train.pt')"
   ]
  },
  {
   "cell_type": "code",
   "execution_count": 5,
   "metadata": {},
   "outputs": [
    {
     "data": {
      "text/plain": [
       "tensor([157,   8,  66,  44,  18,  61, 106, 109,  71,   9, 110,  94, 108, 112,\n",
       "         60, 101,  74, 105,  -1,  -1,  -1,  -1,  -1,  -1,  -1,  -1,  -1,  -1,\n",
       "         -1,  -1,  -1,  -1,  -1,  -1,  -1])"
      ]
     },
     "execution_count": 5,
     "metadata": {},
     "output_type": "execute_result"
    }
   ],
   "source": [
    "test[1]"
   ]
  },
  {
   "cell_type": "markdown",
   "metadata": {},
   "source": [
    "## looking at hessians"
   ]
  },
  {
   "cell_type": "code",
   "execution_count": 22,
   "metadata": {},
   "outputs": [
    {
     "name": "stdout",
     "output_type": "stream",
     "text": [
      "Total entries across all LMDB files jacs: 300\n"
     ]
    },
    {
     "data": {
      "text/plain": [
       "300"
      ]
     },
     "execution_count": 22,
     "metadata": {},
     "output_type": "execute_result"
    }
   ],
   "source": [
    "teacher_labels_path = '/data/ishan-amin/OMOL/TOY/labels/ligand_pocket_300/force_jacobians'\n",
    "labels = LmdbDataset(teacher_labels_path)\n",
    "len(labels)"
   ]
  },
  {
   "cell_type": "code",
   "execution_count": 23,
   "metadata": {},
   "outputs": [],
   "source": [
    "jac = labels[0].reshape(338, 3, 338, 3)"
   ]
  },
  {
   "cell_type": "code",
   "execution_count": 30,
   "metadata": {},
   "outputs": [
    {
     "data": {
      "text/plain": [
       "tensor([[ 0.0023, -0.0048, -0.0014],\n",
       "        [-0.0008,  0.0006, -0.0011],\n",
       "        [ 0.0011, -0.0059, -0.0027]])"
      ]
     },
     "execution_count": 30,
     "metadata": {},
     "output_type": "execute_result"
    }
   ],
   "source": [
    "# these entries are small, so the interactions between far apart atoms are not strong\n",
    "jac[102, :, 14, :]"
   ]
  },
  {
   "cell_type": "code",
   "execution_count": null,
   "metadata": {},
   "outputs": [],
   "source": []
  }
 ],
 "metadata": {
  "kernelspec": {
   "display_name": "fairchemV2",
   "language": "python",
   "name": "python3"
  },
  "language_info": {
   "codemirror_mode": {
    "name": "ipython",
    "version": 3
   },
   "file_extension": ".py",
   "mimetype": "text/x-python",
   "name": "python",
   "nbconvert_exporter": "python",
   "pygments_lexer": "ipython3",
   "version": "3.10.18"
  }
 },
 "nbformat": 4,
 "nbformat_minor": 2
}
