{
 "cells": [
  {
   "cell_type": "code",
   "execution_count": 1,
   "metadata": {},
   "outputs": [
    {
     "data": {
      "application/vnd.jupyter.widget-view+json": {
       "model_id": "a1974084f85c4f09aac2818b217d7dd2",
       "version_major": 2,
       "version_minor": 0
      },
      "text/plain": []
     },
     "metadata": {},
     "output_type": "display_data"
    }
   ],
   "source": [
    "import os\n",
    "import torch\n",
    "import nglview as nv\n",
    "from ase.io import read\n",
    "from fairchem.core.datasets.ase_datasets import AseDBDataset"
   ]
  },
  {
   "cell_type": "markdown",
   "metadata": {},
   "source": [
    "## Protein ligand pocket 300 val"
   ]
  },
  {
   "cell_type": "code",
   "execution_count": 2,
   "metadata": {},
   "outputs": [
    {
     "name": "stdout",
     "output_type": "stream",
     "text": [
      "300\n"
     ]
    }
   ],
   "source": [
    "a2g_args = {  \n",
    "    # \"molecule_cell_size\": 120.0,\n",
    "    \"r_energy\": True,\n",
    "    \"r_forces\": True,\n",
    "}\n",
    "path = '/data/ishan-amin/OMOL/TOY/ligand_pocket_300/val'\n",
    "dataset = AseDBDataset({\n",
    "                        \"src\": path,\n",
    "                        \"a2g_args\": a2g_args,\n",
    "                        })\n",
    "print(len(dataset))"
   ]
  },
  {
   "cell_type": "code",
   "execution_count": 3,
   "metadata": {},
   "outputs": [
    {
     "name": "stdout",
     "output_type": "stream",
     "text": [
      "306\n",
      "297\n",
      "273\n",
      "273\n",
      "247\n",
      "247\n",
      "205\n",
      "205\n",
      "147\n",
      "147\n",
      "100\n",
      "100\n",
      "328\n",
      "266\n",
      "266\n"
     ]
    }
   ],
   "source": [
    "for i in range(15):\n",
    "    print(len(dataset[i].atomic_numbers))"
   ]
  },
  {
   "cell_type": "code",
   "execution_count": 4,
   "metadata": {},
   "outputs": [
    {
     "data": {
      "text/plain": [
       "torch.Size([300, 15])"
      ]
     },
     "execution_count": 4,
     "metadata": {},
     "output_type": "execute_result"
    }
   ],
   "source": [
    "random_indices_list = []\n",
    "for i in range(300):\n",
    "    n = len(dataset[i].atomic_numbers)\n",
    "    indices = torch.randperm(n)[:15]\n",
    "    random_indices_list.append(indices)\n",
    "\n",
    "random_indices = torch.stack(random_indices_list)  # Shape: [300, 15]\n",
    "random_indices.shape"
   ]
  },
  {
   "cell_type": "code",
   "execution_count": 5,
   "metadata": {},
   "outputs": [],
   "source": [
    "# torch.save(random_indices, 'random_idxs_plp300_eval.pt')"
   ]
  },
  {
   "cell_type": "code",
   "execution_count": 88,
   "metadata": {},
   "outputs": [
    {
     "data": {
      "text/plain": [
       "False"
      ]
     },
     "execution_count": 88,
     "metadata": {},
     "output_type": "execute_result"
    }
   ],
   "source": [
    "any(dataset[i].charge for i in range(len(dataset)))"
   ]
  },
  {
   "cell_type": "code",
   "execution_count": 6,
   "metadata": {},
   "outputs": [
    {
     "name": "stdout",
     "output_type": "stream",
     "text": [
      "300\n"
     ]
    }
   ],
   "source": [
    "num_batches = 75\n",
    "counter = 0\n",
    "x_all = []\n",
    "for b in range(num_batches):\n",
    "    x_message = torch.load(f\"plp300_eval_unshuffled/x_message_{b}.pt\", map_location=\"cpu\")\n",
    "    batch = torch.load(f\"plp300_eval_unshuffled/batch_{b}.pt\", map_location=\"cpu\")\n",
    "    x_parts = [x_message[batch == i] for i in range(max(batch) + 1)]\n",
    "    x_all.extend(x_parts)\n",
    "\n",
    "print(len(x_all))"
   ]
  },
  {
   "cell_type": "code",
   "execution_count": 7,
   "metadata": {},
   "outputs": [
    {
     "name": "stdout",
     "output_type": "stream",
     "text": [
      "300\n"
     ]
    }
   ],
   "source": [
    "diverse_idxs = []\n",
    "num_points = 15\n",
    "for x in x_all:\n",
    "    # Step 2: Compute pairwise L2 distance matrix [201, 201]\n",
    "    # (Optional: use other distances like cosine if preferred)\n",
    "    diffs = x[:, None, :] - x[None, :, :]  # shape (201, 201, 128)\n",
    "    dists = torch.norm(diffs, dim=2)       # shape (201, 201)\n",
    "\n",
    "    # Step 3: Greedy Max-Min Diversity selection\n",
    "    selected = [torch.randint(0, len(x), (1,)).item()]  # Start from a random point\n",
    "    remaining = set(range(len(x))) - set(selected)\n",
    "\n",
    "    for _ in range(num_points - 1):\n",
    "        # For each remaining candidate, get the distance to the closest already selected point\n",
    "        candidate_to_min_dist = [\n",
    "            (i, torch.min(dists[i, selected]).item()) for i in remaining\n",
    "        ]\n",
    "        # Pick the candidate with the **maximum** of these minimum distances\n",
    "        next_idx = max(candidate_to_min_dist, key=lambda t: t[1])[0]\n",
    "        selected.append(next_idx)\n",
    "        remaining.remove(next_idx)\n",
    "\n",
    "    diverse_idxs.append(selected)\n",
    "\n",
    "print(len(diverse_idxs))"
   ]
  },
  {
   "cell_type": "code",
   "execution_count": 18,
   "metadata": {},
   "outputs": [
    {
     "name": "stdout",
     "output_type": "stream",
     "text": [
      "num atoms: 328\n"
     ]
    },
    {
     "data": {
      "application/vnd.jupyter.widget-view+json": {
       "model_id": "e6eefbf04a2d423b84e0cc14fad4e1a3",
       "version_major": 2,
       "version_minor": 0
      },
      "text/plain": [
       "NGLWidget()"
      ]
     },
     "metadata": {},
     "output_type": "display_data"
    }
   ],
   "source": [
    "atom_num = 12\n",
    "atoms = read(f'plp300_eval_data_unshuffled/{atom_num}.xyz')\n",
    "\n",
    "closest_arr = diverse_idxs[atom_num]\n",
    "comma_separated_string = ','.join(str(i) for i in closest_arr)\n",
    "\n",
    "viewer = nv.show_ase(atoms)\n",
    "\n",
    "# Clear default representations\n",
    "viewer.clear()\n",
    "\n",
    "# Add spacefill for magnesium\n",
    "# viewer.add_representation('spacefill', selection='_Mg', radius=radius, opacity=0.5)\n",
    "\n",
    "# Add ball+stick for all atoms except index 4 (NGLView uses 1-based indexing, so index 4 -> 5)\n",
    "arr = str([_ for _ in range(100)])\n",
    "\n",
    "viewer.add_representation('ball+stick', selection=f'@{comma_separated_string}', radius=0.2, bondRadius=0.01)\n",
    "viewer.add_representation('ball+stick', selection='*', radius=0.2, bondRadius=0.01, opacity=0.15)\n",
    "\n",
    "print(f'num atoms: {len(atoms)}')\n",
    "# Display the viewer\n",
    "display(viewer)"
   ]
  },
  {
   "cell_type": "code",
   "execution_count": 14,
   "metadata": {},
   "outputs": [],
   "source": [
    "div_idxs_tensor = torch.tensor(diverse_idxs)\n",
    "torch.save(div_idxs_tensor, \"not_diverse_idxs_plp300_eval.pt\")"
   ]
  },
  {
   "cell_type": "markdown",
   "metadata": {},
   "source": [
    "## Solvated"
   ]
  },
  {
   "cell_type": "code",
   "execution_count": 19,
   "metadata": {},
   "outputs": [
    {
     "name": "stdout",
     "output_type": "stream",
     "text": [
      "143\n"
     ]
    }
   ],
   "source": [
    "a2g_args = {  \n",
    "    # \"molecule_cell_size\": 120.0,\n",
    "    \"r_energy\": True,\n",
    "    \"r_forces\": True,\n",
    "}\n",
    "path = '/data/ishan-amin/OMOL/TOY/solvated/val'\n",
    "dataset = AseDBDataset({\n",
    "                        \"src\": path,\n",
    "                        \"a2g_args\": a2g_args,\n",
    "                        })\n",
    "print(len(dataset))"
   ]
  },
  {
   "cell_type": "code",
   "execution_count": 20,
   "metadata": {},
   "outputs": [
    {
     "name": "stdout",
     "output_type": "stream",
     "text": [
      "89\n",
      "96\n",
      "85\n",
      "88\n",
      "93\n",
      "91\n",
      "88\n",
      "89\n",
      "89\n",
      "85\n",
      "85\n",
      "89\n",
      "83\n",
      "89\n",
      "92\n"
     ]
    }
   ],
   "source": [
    "for i in range(15):\n",
    "    print(len(dataset[i].atomic_numbers))"
   ]
  },
  {
   "cell_type": "code",
   "execution_count": 22,
   "metadata": {},
   "outputs": [
    {
     "name": "stdout",
     "output_type": "stream",
     "text": [
      "143\n"
     ]
    }
   ],
   "source": [
    "num_batches = 13\n",
    "counter = 0\n",
    "x_all = []\n",
    "for b in range(num_batches):\n",
    "    x_message = torch.load(f\"solvated_unshuffled/x_message_{b}.pt\", map_location=\"cpu\")\n",
    "    batch = torch.load(f\"solvated_unshuffled/batch_{b}.pt\", map_location=\"cpu\")\n",
    "    x_parts = [x_message[batch == i] for i in range(max(batch) + 1)]\n",
    "    x_all.extend(x_parts)\n",
    "\n",
    "print(len(x_all))"
   ]
  },
  {
   "cell_type": "code",
   "execution_count": 23,
   "metadata": {},
   "outputs": [
    {
     "name": "stdout",
     "output_type": "stream",
     "text": [
      "143\n"
     ]
    }
   ],
   "source": [
    "diverse_idxs = []\n",
    "num_points = 10\n",
    "for x in x_all:\n",
    "    # Step 2: Compute pairwise L2 distance matrix [201, 201]\n",
    "    # (Optional: use other distances like cosine if preferred)\n",
    "    diffs = x[:, None, :] - x[None, :, :]  # shape (201, 201, 128)\n",
    "    dists = torch.norm(diffs, dim=2)       # shape (201, 201)\n",
    "\n",
    "    # Step 3: Greedy Max-Min Diversity selection\n",
    "    selected = [torch.randint(0, len(x), (1,)).item()]  # Start from a random point\n",
    "    remaining = set(range(len(x))) - set(selected)\n",
    "\n",
    "    for _ in range(num_points - 1):\n",
    "        # For each remaining candidate, get the distance to the closest already selected point\n",
    "        candidate_to_min_dist = [\n",
    "            (i, torch.min(dists[i, selected]).item()) for i in remaining\n",
    "        ]\n",
    "        # Pick the candidate with the **maximum** of these minimum distances\n",
    "        next_idx = max(candidate_to_min_dist, key=lambda t: t[1])[0]\n",
    "        selected.append(next_idx)\n",
    "        remaining.remove(next_idx)\n",
    "\n",
    "    diverse_idxs.append(selected)\n",
    "\n",
    "print(len(diverse_idxs))"
   ]
  },
  {
   "cell_type": "code",
   "execution_count": 27,
   "metadata": {},
   "outputs": [
    {
     "name": "stdout",
     "output_type": "stream",
     "text": [
      "num atoms: 96\n"
     ]
    },
    {
     "data": {
      "application/vnd.jupyter.widget-view+json": {
       "model_id": "d44ca0f0d6184945afe91519e2129360",
       "version_major": 2,
       "version_minor": 0
      },
      "text/plain": [
       "NGLWidget()"
      ]
     },
     "metadata": {},
     "output_type": "display_data"
    }
   ],
   "source": [
    "atom_num = 1\n",
    "atoms = read(f'solvated_data_unshuffled/{atom_num}.xyz')\n",
    "\n",
    "closest_arr = diverse_idxs[atom_num]\n",
    "comma_separated_string = ','.join(str(i) for i in closest_arr)\n",
    "\n",
    "viewer = nv.show_ase(atoms)\n",
    "\n",
    "# Clear default representations\n",
    "viewer.clear()\n",
    "\n",
    "# Add spacefill for magnesium\n",
    "# viewer.add_representation('spacefill', selection='_Mg', radius=radius, opacity=0.5)\n",
    "\n",
    "# Add ball+stick for all atoms except index 4 (NGLView uses 1-based indexing, so index 4 -> 5)\n",
    "arr = str([_ for _ in range(100)])\n",
    "\n",
    "viewer.add_representation('ball+stick', selection=f'@{comma_separated_string}', radius=0.2, bondRadius=0.01)\n",
    "viewer.add_representation('ball+stick', selection='*', radius=0.2, bondRadius=0.01, opacity=0.15)\n",
    "\n",
    "print(f'num atoms: {len(atoms)}')\n",
    "# Display the viewer\n",
    "display(viewer)"
   ]
  },
  {
   "cell_type": "code",
   "execution_count": 26,
   "metadata": {},
   "outputs": [
    {
     "data": {
      "text/plain": [
       "'C9H54N4O22'"
      ]
     },
     "execution_count": 26,
     "metadata": {},
     "output_type": "execute_result"
    }
   ],
   "source": [
    "atoms.get_chemical_formula()"
   ]
  },
  {
   "cell_type": "code",
   "execution_count": 28,
   "metadata": {},
   "outputs": [],
   "source": [
    "div_idxs_tensor = torch.tensor(diverse_idxs)\n",
    "torch.save(div_idxs_tensor, \"solvated_eval_diverse_idxs.pt\")"
   ]
  },
  {
   "cell_type": "markdown",
   "metadata": {},
   "source": [
    "## protein ligand pocket 300 train"
   ]
  },
  {
   "cell_type": "code",
   "execution_count": 28,
   "metadata": {},
   "outputs": [
    {
     "name": "stdout",
     "output_type": "stream",
     "text": [
      "300\n"
     ]
    }
   ],
   "source": [
    "a2g_args = {  \n",
    "    # \"molecule_cell_size\": 120.0,\n",
    "    \"r_energy\": True,\n",
    "    \"r_forces\": True,\n",
    "}\n",
    "path = '/data/ishan-amin/OMOL/TOY/ligand_pocket_300/train'\n",
    "dataset = AseDBDataset({\n",
    "                        \"src\": path,\n",
    "                        \"a2g_args\": a2g_args,\n",
    "                        })\n",
    "print(len(dataset))"
   ]
  },
  {
   "cell_type": "code",
   "execution_count": 29,
   "metadata": {},
   "outputs": [
    {
     "name": "stdout",
     "output_type": "stream",
     "text": [
      "338\n",
      "187\n",
      "90\n",
      "158\n",
      "72\n",
      "190\n",
      "244\n",
      "244\n",
      "302\n",
      "78\n",
      "250\n",
      "273\n",
      "95\n",
      "327\n",
      "195\n"
     ]
    }
   ],
   "source": [
    "for i in range(15):\n",
    "    print(len(dataset[i].atomic_numbers))"
   ]
  },
  {
   "cell_type": "code",
   "execution_count": 30,
   "metadata": {},
   "outputs": [
    {
     "data": {
      "text/plain": [
       "torch.Size([300, 15])"
      ]
     },
     "execution_count": 30,
     "metadata": {},
     "output_type": "execute_result"
    }
   ],
   "source": [
    "random_indices_list = []\n",
    "for i in range(300):\n",
    "    n = len(dataset[i].atomic_numbers)\n",
    "    indices = torch.randperm(n)[:15]\n",
    "    random_indices_list.append(indices)\n",
    "\n",
    "random_indices = torch.stack(random_indices_list)  # Shape: [300, 15]\n",
    "random_indices.shape"
   ]
  },
  {
   "cell_type": "code",
   "execution_count": 31,
   "metadata": {},
   "outputs": [],
   "source": [
    "torch.save(random_indices, \"random_idxs_plp300_train.pt\")"
   ]
  },
  {
   "cell_type": "code",
   "execution_count": 4,
   "metadata": {},
   "outputs": [
    {
     "name": "stdout",
     "output_type": "stream",
     "text": [
      "300\n"
     ]
    }
   ],
   "source": [
    "num_batches = 69\n",
    "counter = 0\n",
    "x_all = []\n",
    "for b in range(num_batches):\n",
    "    x_message = torch.load(f\"plp300_train_unshuffled/x_message_{b}.pt\", map_location=\"cpu\")\n",
    "    batch = torch.load(f\"plp300_train_unshuffled/batch_{b}.pt\", map_location=\"cpu\")\n",
    "    x_parts = [x_message[batch == i] for i in range(max(batch) + 1)]\n",
    "    x_all.extend(x_parts)\n",
    "\n",
    "print(len(x_all))"
   ]
  },
  {
   "cell_type": "code",
   "execution_count": null,
   "metadata": {},
   "outputs": [
    {
     "name": "stdout",
     "output_type": "stream",
     "text": [
      "300\n"
     ]
    }
   ],
   "source": [
    "diverse_idxs = []\n",
    "num_points = 15\n",
    "for x in x_all:\n",
    "    # Step 2: Compute pairwise L2 distance matrix [201, 201]\n",
    "    # (Optional: use other distances like cosine if preferred)\n",
    "    diffs = x[:, None, :] - x[None, :, :]  # shape (201, 201, 128)\n",
    "    dists = torch.norm(diffs, dim=2)       # shape (201, 201)\n",
    "\n",
    "    # Step 3: Greedy Max-Min Diversity selection\n",
    "    selected = [torch.randint(0, len(x), (1,)).item()]  # Start from a random point\n",
    "    remaining = set(range(len(x))) - set(selected)\n",
    "\n",
    "    for _ in range(num_points - 1):\n",
    "        # For each remaining candidate, get the distance to the closest already selected point\n",
    "        candidate_to_min_dist = [\n",
    "            (i, torch.min(dists[i, selected]).item()) for i in remaining\n",
    "        ]\n",
    "        # Pick the candidate with the **maximum** of these minimum distances\n",
    "        next_idx = max(candidate_to_min_dist, key=lambda t: t[1])[0] # change this to min for the least diverse\n",
    "        selected.append(next_idx)\n",
    "        remaining.remove(next_idx)\n",
    "\n",
    "    diverse_idxs.append(selected)\n",
    "\n",
    "print(len(diverse_idxs))"
   ]
  },
  {
   "cell_type": "code",
   "execution_count": 6,
   "metadata": {},
   "outputs": [
    {
     "name": "stdout",
     "output_type": "stream",
     "text": [
      "num atoms: 187\n"
     ]
    },
    {
     "data": {
      "application/vnd.jupyter.widget-view+json": {
       "model_id": "949a27340c704e6e99f86775046cb3bc",
       "version_major": 2,
       "version_minor": 0
      },
      "text/plain": [
       "NGLWidget()"
      ]
     },
     "metadata": {},
     "output_type": "display_data"
    }
   ],
   "source": [
    "atom_num = 1\n",
    "atoms = read(f'plp300_train_data_unshuffled/{atom_num}.xyz')\n",
    "\n",
    "closest_arr = diverse_idxs[atom_num]\n",
    "comma_separated_string = ','.join(str(i) for i in closest_arr)\n",
    "\n",
    "viewer = nv.show_ase(atoms)\n",
    "\n",
    "# Clear default representations\n",
    "viewer.clear()\n",
    "\n",
    "# Add spacefill for magnesium\n",
    "# viewer.add_representation('spacefill', selection='_Mg', radius=radius, opacity=0.5)\n",
    "\n",
    "# Add ball+stick for all atoms except index 4 (NGLView uses 1-based indexing, so index 4 -> 5)\n",
    "arr = str([_ for _ in range(100)])\n",
    "\n",
    "viewer.add_representation('ball+stick', selection=f'@{comma_separated_string}', radius=0.2, bondRadius=0.01)\n",
    "viewer.add_representation('ball+stick', selection='*', radius=0.2, bondRadius=0.01, opacity=0.15)\n",
    "\n",
    "print(f'num atoms: {len(atoms)}')\n",
    "# Display the viewer\n",
    "display(viewer)"
   ]
  },
  {
   "cell_type": "code",
   "execution_count": 7,
   "metadata": {},
   "outputs": [],
   "source": [
    "div_idxs_tensor = torch.tensor(diverse_idxs)\n",
    "torch.save(div_idxs_tensor, \"not_diverse_idxs_plp300_train.pt\")"
   ]
  },
  {
   "cell_type": "code",
   "execution_count": 25,
   "metadata": {},
   "outputs": [
    {
     "data": {
      "text/plain": [
       "tensor([[318, 101, 316,  ..., 191, 291, 309],\n",
       "        [ 99, 142,  66,  ..., 108,  89,  60],\n",
       "        [ 16,  12,   9,  ...,  43,  54,  23],\n",
       "        ...,\n",
       "        [142, 117,  55,  ..., 140, 195, 150],\n",
       "        [121,  59, 104,  ...,   2, 110, 125],\n",
       "        [ 10, 271, 122,  ..., 188, 247, 252]])"
      ]
     },
     "execution_count": 25,
     "metadata": {},
     "output_type": "execute_result"
    }
   ],
   "source": [
    "div_idxs_tensor"
   ]
  },
  {
   "cell_type": "code",
   "execution_count": 59,
   "metadata": {},
   "outputs": [],
   "source": [
    "atoms = read(f'plp300_train_data_unshuffled/1.xyz')"
   ]
  },
  {
   "cell_type": "code",
   "execution_count": 65,
   "metadata": {},
   "outputs": [
    {
     "data": {
      "text/plain": [
       "False"
      ]
     },
     "execution_count": 65,
     "metadata": {},
     "output_type": "execute_result"
    }
   ],
   "source": [
    "res = []\n",
    "for i in range(300):\n",
    "    atoms = read(f'plp300_train_data_unshuffled/{i}.xyz')\n",
    "    res.append(any(atoms.get_initial_charges()))\n",
    "any(res)"
   ]
  },
  {
   "cell_type": "code",
   "execution_count": 75,
   "metadata": {},
   "outputs": [
    {
     "data": {
      "text/plain": [
       "False"
      ]
     },
     "execution_count": 75,
     "metadata": {},
     "output_type": "execute_result"
    }
   ],
   "source": [
    "res = []\n",
    "folder = 'solvated_data_unshuffled'\n",
    "for i in range(len(os.listdir(folder))):\n",
    "    atoms = read(f'{folder}/{i}.xyz')\n",
    "    res.append(any(atoms.get_initial_charges()))\n",
    "any(res)"
   ]
  },
  {
   "cell_type": "code",
   "execution_count": 89,
   "metadata": {},
   "outputs": [
    {
     "ename": "AttributeError",
     "evalue": "'Atoms' object has no attribute 'get_partial_charges'",
     "output_type": "error",
     "traceback": [
      "\u001b[0;31m---------------------------------------------------------------------------\u001b[0m",
      "\u001b[0;31mAttributeError\u001b[0m                            Traceback (most recent call last)",
      "Cell \u001b[0;32mIn[89], line 1\u001b[0m\n\u001b[0;32m----> 1\u001b[0m \u001b[43matoms\u001b[49m\u001b[38;5;241;43m.\u001b[39;49m\u001b[43mget_partial_charges\u001b[49m()\n",
      "\u001b[0;31mAttributeError\u001b[0m: 'Atoms' object has no attribute 'get_partial_charges'"
     ]
    }
   ],
   "source": [
    "atoms.get_partial_charges()"
   ]
  },
  {
   "cell_type": "code",
   "execution_count": null,
   "metadata": {},
   "outputs": [],
   "source": []
  }
 ],
 "metadata": {
  "kernelspec": {
   "display_name": "fairchemV2",
   "language": "python",
   "name": "python3"
  },
  "language_info": {
   "codemirror_mode": {
    "name": "ipython",
    "version": 3
   },
   "file_extension": ".py",
   "mimetype": "text/x-python",
   "name": "python",
   "nbconvert_exporter": "python",
   "pygments_lexer": "ipython3",
   "version": "3.10.18"
  }
 },
 "nbformat": 4,
 "nbformat_minor": 2
}
