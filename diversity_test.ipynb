{
 "cells": [
  {
   "cell_type": "code",
   "execution_count": 14,
   "metadata": {},
   "outputs": [],
   "source": [
    "import torch\n",
    "import nglview as nv\n",
    "from ase.io import read\n",
    "from fairchem.core.datasets.ase_datasets import AseDBDataset"
   ]
  },
  {
   "cell_type": "markdown",
   "metadata": {},
   "source": [
    "## Protein ligand pocket 300"
   ]
  },
  {
   "cell_type": "code",
   "execution_count": 17,
   "metadata": {},
   "outputs": [
    {
     "name": "stdout",
     "output_type": "stream",
     "text": [
      "300\n"
     ]
    }
   ],
   "source": [
    "a2g_args = {  \n",
    "    # \"molecule_cell_size\": 120.0,\n",
    "    \"r_energy\": True,\n",
    "    \"r_forces\": True,\n",
    "}\n",
    "path = '/data/ishan-amin/OMOL/TOY/ligand_pocket_300/val'\n",
    "dataset = AseDBDataset({\n",
    "                        \"src\": path,\n",
    "                        \"a2g_args\": a2g_args,\n",
    "                        })\n",
    "print(len(dataset))"
   ]
  },
  {
   "cell_type": "code",
   "execution_count": 18,
   "metadata": {},
   "outputs": [
    {
     "name": "stdout",
     "output_type": "stream",
     "text": [
      "306\n",
      "297\n",
      "273\n",
      "273\n",
      "247\n",
      "247\n",
      "205\n",
      "205\n",
      "147\n",
      "147\n",
      "100\n",
      "100\n",
      "328\n",
      "266\n",
      "266\n"
     ]
    }
   ],
   "source": [
    "for i in range(15):\n",
    "    print(len(dataset[i].atomic_numbers))"
   ]
  },
  {
   "cell_type": "code",
   "execution_count": null,
   "metadata": {},
   "outputs": [
    {
     "name": "stdout",
     "output_type": "stream",
     "text": [
      "300\n"
     ]
    }
   ],
   "source": [
    "num_batches = 75\n",
    "counter = 0\n",
    "x_all = []\n",
    "for b in range(num_batches):\n",
    "    x_message = torch.load(f\"plp300_unshuffled/x_message_{b}.pt\", map_location=\"cpu\")\n",
    "    batch = torch.load(f\"plp300_unshuffled/batch_{b}.pt\", map_location=\"cpu\")\n",
    "    x_parts = [x_message[batch == i] for i in range(max(batch) + 1)]\n",
    "    x_all.extend(x_parts)\n",
    "\n",
    "print(len(x_all))"
   ]
  },
  {
   "cell_type": "code",
   "execution_count": 5,
   "metadata": {},
   "outputs": [
    {
     "name": "stdout",
     "output_type": "stream",
     "text": [
      "300\n"
     ]
    }
   ],
   "source": [
    "diverse_idxs = []\n",
    "num_points = 15\n",
    "for x in x_all:\n",
    "    # Step 2: Compute pairwise L2 distance matrix [201, 201]\n",
    "    # (Optional: use other distances like cosine if preferred)\n",
    "    diffs = x[:, None, :] - x[None, :, :]  # shape (201, 201, 128)\n",
    "    dists = torch.norm(diffs, dim=2)       # shape (201, 201)\n",
    "\n",
    "    # Step 3: Greedy Max-Min Diversity selection\n",
    "    selected = [torch.randint(0, len(x), (1,)).item()]  # Start from a random point\n",
    "    remaining = set(range(len(x))) - set(selected)\n",
    "\n",
    "    for _ in range(num_points - 1):\n",
    "        # For each remaining candidate, get the distance to the closest already selected point\n",
    "        candidate_to_min_dist = [\n",
    "            (i, torch.min(dists[i, selected]).item()) for i in remaining\n",
    "        ]\n",
    "        # Pick the candidate with the **maximum** of these minimum distances\n",
    "        next_idx = max(candidate_to_min_dist, key=lambda t: t[1])[0]\n",
    "        selected.append(next_idx)\n",
    "        remaining.remove(next_idx)\n",
    "\n",
    "    diverse_idxs.append(selected)\n",
    "\n",
    "print(len(diverse_idxs))"
   ]
  },
  {
   "cell_type": "code",
   "execution_count": 12,
   "metadata": {},
   "outputs": [
    {
     "name": "stdout",
     "output_type": "stream",
     "text": [
      "num atoms: 306\n"
     ]
    },
    {
     "data": {
      "application/vnd.jupyter.widget-view+json": {
       "model_id": "850e9dffcde14335968d91fe1e014c98",
       "version_major": 2,
       "version_minor": 0
      },
      "text/plain": [
       "NGLWidget()"
      ]
     },
     "metadata": {},
     "output_type": "display_data"
    }
   ],
   "source": [
    "atom_num = 0\n",
    "atoms = read(f'plp300_data_unshuffled/{atom_num}.xyz')\n",
    "\n",
    "closest_arr = diverse_idxs[atom_num]\n",
    "comma_separated_string = ','.join(str(i) for i in closest_arr)\n",
    "\n",
    "viewer = nv.show_ase(atoms)\n",
    "\n",
    "# Clear default representations\n",
    "viewer.clear()\n",
    "\n",
    "# Add spacefill for magnesium\n",
    "# viewer.add_representation('spacefill', selection='_Mg', radius=radius, opacity=0.5)\n",
    "\n",
    "# Add ball+stick for all atoms except index 4 (NGLView uses 1-based indexing, so index 4 -> 5)\n",
    "arr = str([_ for _ in range(100)])\n",
    "\n",
    "viewer.add_representation('ball+stick', selection=f'@{comma_separated_string}', radius=0.2, bondRadius=0.01)\n",
    "viewer.add_representation('ball+stick', selection='*', radius=0.2, bondRadius=0.01, opacity=0.15)\n",
    "\n",
    "print(f'num atoms: {len(atoms)}')\n",
    "# Display the viewer\n",
    "display(viewer)"
   ]
  },
  {
   "cell_type": "code",
   "execution_count": 13,
   "metadata": {},
   "outputs": [
    {
     "data": {
      "text/plain": [
       "'C109H159MgN18O19'"
      ]
     },
     "execution_count": 13,
     "metadata": {},
     "output_type": "execute_result"
    }
   ],
   "source": [
    "atoms.get_chemical_formula()"
   ]
  },
  {
   "cell_type": "code",
   "execution_count": 13,
   "metadata": {},
   "outputs": [],
   "source": [
    "# div_idxs_tensor = torch.tensor(diverse_idxs)\n",
    "# torch.save(div_idxs_tensor, \"eval_diverse_idxs.pt\")"
   ]
  },
  {
   "cell_type": "markdown",
   "metadata": {},
   "source": [
    "## Solvated"
   ]
  },
  {
   "cell_type": "code",
   "execution_count": 19,
   "metadata": {},
   "outputs": [
    {
     "name": "stdout",
     "output_type": "stream",
     "text": [
      "143\n"
     ]
    }
   ],
   "source": [
    "a2g_args = {  \n",
    "    # \"molecule_cell_size\": 120.0,\n",
    "    \"r_energy\": True,\n",
    "    \"r_forces\": True,\n",
    "}\n",
    "path = '/data/ishan-amin/OMOL/TOY/solvated/val'\n",
    "dataset = AseDBDataset({\n",
    "                        \"src\": path,\n",
    "                        \"a2g_args\": a2g_args,\n",
    "                        })\n",
    "print(len(dataset))"
   ]
  },
  {
   "cell_type": "code",
   "execution_count": 20,
   "metadata": {},
   "outputs": [
    {
     "name": "stdout",
     "output_type": "stream",
     "text": [
      "89\n",
      "96\n",
      "85\n",
      "88\n",
      "93\n",
      "91\n",
      "88\n",
      "89\n",
      "89\n",
      "85\n",
      "85\n",
      "89\n",
      "83\n",
      "89\n",
      "92\n"
     ]
    }
   ],
   "source": [
    "for i in range(15):\n",
    "    print(len(dataset[i].atomic_numbers))"
   ]
  },
  {
   "cell_type": "code",
   "execution_count": 22,
   "metadata": {},
   "outputs": [
    {
     "name": "stdout",
     "output_type": "stream",
     "text": [
      "143\n"
     ]
    }
   ],
   "source": [
    "num_batches = 13\n",
    "counter = 0\n",
    "x_all = []\n",
    "for b in range(num_batches):\n",
    "    x_message = torch.load(f\"solvated_unshuffled/x_message_{b}.pt\", map_location=\"cpu\")\n",
    "    batch = torch.load(f\"solvated_unshuffled/batch_{b}.pt\", map_location=\"cpu\")\n",
    "    x_parts = [x_message[batch == i] for i in range(max(batch) + 1)]\n",
    "    x_all.extend(x_parts)\n",
    "\n",
    "print(len(x_all))"
   ]
  },
  {
   "cell_type": "code",
   "execution_count": 23,
   "metadata": {},
   "outputs": [
    {
     "name": "stdout",
     "output_type": "stream",
     "text": [
      "143\n"
     ]
    }
   ],
   "source": [
    "diverse_idxs = []\n",
    "num_points = 10\n",
    "for x in x_all:\n",
    "    # Step 2: Compute pairwise L2 distance matrix [201, 201]\n",
    "    # (Optional: use other distances like cosine if preferred)\n",
    "    diffs = x[:, None, :] - x[None, :, :]  # shape (201, 201, 128)\n",
    "    dists = torch.norm(diffs, dim=2)       # shape (201, 201)\n",
    "\n",
    "    # Step 3: Greedy Max-Min Diversity selection\n",
    "    selected = [torch.randint(0, len(x), (1,)).item()]  # Start from a random point\n",
    "    remaining = set(range(len(x))) - set(selected)\n",
    "\n",
    "    for _ in range(num_points - 1):\n",
    "        # For each remaining candidate, get the distance to the closest already selected point\n",
    "        candidate_to_min_dist = [\n",
    "            (i, torch.min(dists[i, selected]).item()) for i in remaining\n",
    "        ]\n",
    "        # Pick the candidate with the **maximum** of these minimum distances\n",
    "        next_idx = max(candidate_to_min_dist, key=lambda t: t[1])[0]\n",
    "        selected.append(next_idx)\n",
    "        remaining.remove(next_idx)\n",
    "\n",
    "    diverse_idxs.append(selected)\n",
    "\n",
    "print(len(diverse_idxs))"
   ]
  },
  {
   "cell_type": "code",
   "execution_count": 27,
   "metadata": {},
   "outputs": [
    {
     "name": "stdout",
     "output_type": "stream",
     "text": [
      "num atoms: 96\n"
     ]
    },
    {
     "data": {
      "application/vnd.jupyter.widget-view+json": {
       "model_id": "d44ca0f0d6184945afe91519e2129360",
       "version_major": 2,
       "version_minor": 0
      },
      "text/plain": [
       "NGLWidget()"
      ]
     },
     "metadata": {},
     "output_type": "display_data"
    }
   ],
   "source": [
    "atom_num = 1\n",
    "atoms = read(f'solvated_data_unshuffled/{atom_num}.xyz')\n",
    "\n",
    "closest_arr = diverse_idxs[atom_num]\n",
    "comma_separated_string = ','.join(str(i) for i in closest_arr)\n",
    "\n",
    "viewer = nv.show_ase(atoms)\n",
    "\n",
    "# Clear default representations\n",
    "viewer.clear()\n",
    "\n",
    "# Add spacefill for magnesium\n",
    "# viewer.add_representation('spacefill', selection='_Mg', radius=radius, opacity=0.5)\n",
    "\n",
    "# Add ball+stick for all atoms except index 4 (NGLView uses 1-based indexing, so index 4 -> 5)\n",
    "arr = str([_ for _ in range(100)])\n",
    "\n",
    "viewer.add_representation('ball+stick', selection=f'@{comma_separated_string}', radius=0.2, bondRadius=0.01)\n",
    "viewer.add_representation('ball+stick', selection='*', radius=0.2, bondRadius=0.01, opacity=0.15)\n",
    "\n",
    "print(f'num atoms: {len(atoms)}')\n",
    "# Display the viewer\n",
    "display(viewer)"
   ]
  },
  {
   "cell_type": "code",
   "execution_count": 26,
   "metadata": {},
   "outputs": [
    {
     "data": {
      "text/plain": [
       "'C9H54N4O22'"
      ]
     },
     "execution_count": 26,
     "metadata": {},
     "output_type": "execute_result"
    }
   ],
   "source": [
    "atoms.get_chemical_formula()"
   ]
  },
  {
   "cell_type": "code",
   "execution_count": 28,
   "metadata": {},
   "outputs": [],
   "source": [
    "div_idxs_tensor = torch.tensor(diverse_idxs)\n",
    "torch.save(div_idxs_tensor, \"solvated_eval_diverse_idxs.pt\")"
   ]
  },
  {
   "cell_type": "code",
   "execution_count": null,
   "metadata": {},
   "outputs": [],
   "source": []
  }
 ],
 "metadata": {
  "kernelspec": {
   "display_name": "fairchemV2",
   "language": "python",
   "name": "python3"
  },
  "language_info": {
   "codemirror_mode": {
    "name": "ipython",
    "version": 3
   },
   "file_extension": ".py",
   "mimetype": "text/x-python",
   "name": "python",
   "nbconvert_exporter": "python",
   "pygments_lexer": "ipython3",
   "version": "3.10.18"
  }
 },
 "nbformat": 4,
 "nbformat_minor": 2
}
