{
 "cells": [
  {
   "cell_type": "code",
   "execution_count": 2,
   "id": "100da2c2",
   "metadata": {},
   "outputs": [
    {
     "name": "stderr",
     "output_type": "stream",
     "text": [
      "/home/ishan-amin/miniconda3/envs/fairchemV2/lib/python3.10/site-packages/tqdm/auto.py:21: TqdmWarning: IProgress not found. Please update jupyter and ipywidgets. See https://ipywidgets.readthedocs.io/en/stable/user_install.html\n",
      "  from .autonotebook import tqdm as notebook_tqdm\n"
     ]
    }
   ],
   "source": [
    "from fairchem.core.datasets import AseDBDataset\n",
    "from tqdm import tqdm\n",
    "import numpy as np\n",
    "import torch\n",
    "from torch.utils.data import Subset\n",
    "from IPython.display import Image, display\n",
    "import ase"
   ]
  },
  {
   "cell_type": "code",
   "execution_count": null,
   "id": "acc20e3e",
   "metadata": {},
   "outputs": [],
   "source": [
    "dst_path = \"../tester_data/solvated_train.aselmdb\"\n",
    "dst_db = ase.db.connect(dst_path, use_lock_file=False)"
   ]
  },
  {
   "cell_type": "code",
   "execution_count": 23,
   "id": "5ea3b3d3",
   "metadata": {},
   "outputs": [],
   "source": [
    "# load dataset\n",
    "# dataset_path = \"/data/yuejian/OMol_Whole/val\"\n",
    "dataset_path = \"../tester_data/train\"\n",
    "a2g_args = {  \n",
    "    # \"molecule_cell_size\": 120.0,\n",
    "    \"r_energy\": True,\n",
    "    \"r_forces\": True,\n",
    "    # \"r_stress\": True,\n",
    "    # \"r_data_keys\": [ 'spin','charge', \"data_id\"],\n",
    "    # 'sid': 'data_id',\n",
    "}\n",
    "# select_args ={ \"data_id\":\"ani2x\"}\n",
    "# select_args ={\"selection\": [(\"charge\", \"=\", -1)] }\n",
    "select_args = {\n",
    "    \"filter\": lambda row: row._data.get(\"data_id\") == \"orbnet_denali\"\n",
    "}\n",
    "dataset = AseDBDataset({\n",
    "                        \"src\": dataset_path,\n",
    "                        \"a2g_args\": a2g_args,\n",
    "                        # \"select_args\": select_args,\n",
    "                        })"
   ]
  },
  {
   "cell_type": "code",
   "execution_count": 31,
   "id": "1bd90491",
   "metadata": {},
   "outputs": [
    {
     "name": "stdout",
     "output_type": "stream",
     "text": [
      "tensor([-59839.5547])\n",
      "tensor([[ 0.1972, -0.1349,  0.0616],\n",
      "        [-0.2270,  1.1344,  0.1714],\n",
      "        [ 1.7660,  0.9128,  0.2354],\n",
      "        [ 0.3723, -1.3173, -0.3917],\n",
      "        [ 0.3054,  0.7133, -0.3659],\n",
      "        [ 2.3021,  1.6191, -0.2759],\n",
      "        [ 1.3750,  1.5244, -1.7888],\n",
      "        [ 1.8031, -1.9382, -0.1884],\n",
      "        [-1.3274, -1.2239,  0.5120],\n",
      "        [-0.1189,  0.1091,  0.9514],\n",
      "        [ 0.5034,  1.0998,  1.5295],\n",
      "        [ 0.0913, -1.4186, -0.0411],\n",
      "        [ 0.2344, -1.5654, -0.5695],\n",
      "        [-2.0528, -0.5885,  0.3352],\n",
      "        [-0.1680,  0.0295,  0.8872],\n",
      "        [-0.2740, -0.5776,  0.0146],\n",
      "        [-1.3369, -0.4924,  0.1844],\n",
      "        [-0.3204, -1.3311,  1.0760],\n",
      "        [ 0.2851,  1.0180,  0.9794],\n",
      "        [-1.1371,  0.6101, -0.5773],\n",
      "        [-1.1510, -0.2933,  0.4069],\n",
      "        [ 0.2091,  0.4675, -0.5888],\n",
      "        [-0.5780,  0.5260, -0.0510],\n",
      "        [ 1.3215, -0.2704, -0.1951],\n",
      "        [ 0.4039, -0.3133, -0.7963],\n",
      "        [-0.9440, -0.0809,  0.0392],\n",
      "        [ 0.5592, -0.7118,  0.0601],\n",
      "        [-1.0690, -0.4695, -0.6741],\n",
      "        [ 0.2180,  0.2555, -0.0798],\n",
      "        [-0.3389,  1.5610,  0.0538],\n",
      "        [ 0.0596,  2.5832, -0.8459],\n",
      "        [-0.1776, -0.1316, -0.0703],\n",
      "        [-0.2666,  0.0765,  0.2416],\n",
      "        [-1.6912, -1.7260,  0.1768],\n",
      "        [ 0.7111,  0.6525, -2.9325],\n",
      "        [ 1.0574,  1.1002,  2.6842],\n",
      "        [ 1.0328,  3.6781,  1.3505],\n",
      "        [ 1.3094, -3.7194, -1.8086],\n",
      "        [-2.3316,  0.1107,  0.4507],\n",
      "        [ 2.5871,  0.8146,  0.1474],\n",
      "        [-0.4665, -1.4207, -2.0561],\n",
      "        [-2.3144,  0.6357,  2.0490],\n",
      "        [ 0.4920,  2.6359, -2.9960],\n",
      "        [ 1.3100, -0.8887,  2.7839],\n",
      "        [-1.7612, -1.6509, -0.0741],\n",
      "        [ 3.2517, -1.2222, -0.4171],\n",
      "        [-1.8659, -2.3465,  0.8614],\n",
      "        [-1.7999,  3.3841, -0.1919],\n",
      "        [ 3.0595,  1.3678, -0.2779],\n",
      "        [-1.5871, -1.7636,  2.0786],\n",
      "        [-1.6130,  0.1085, -1.4630],\n",
      "        [ 1.9604,  2.7571, -1.1934],\n",
      "        [ 0.1648, -3.5435, -0.8130],\n",
      "        [-2.0426,  0.1898,  2.0717],\n",
      "        [ 2.6885,  1.4096, -3.0285],\n",
      "        [-2.8566, -1.6437, -0.2129],\n",
      "        [ 0.1914,  0.2543,  3.1740],\n",
      "        [-0.6094, -0.4646, -3.2607],\n",
      "        [-0.4364,  2.7519,  1.1077],\n",
      "        [ 1.2525, -2.2557,  2.3034],\n",
      "        [ 0.5132, -0.4943,  2.4642],\n",
      "        [ 1.1771,  0.4767, -3.0480],\n",
      "        [-1.7564,  0.0581,  0.4885],\n",
      "        [ 2.3536,  2.5713, -1.1499],\n",
      "        [-1.0157,  0.0525,  3.1498],\n",
      "        [-1.0623, -2.6381, -2.2013],\n",
      "        [ 1.7226,  1.5346, -1.7344],\n",
      "        [-1.9567,  2.4002,  2.0870],\n",
      "        [ 0.1985, -4.0026, -0.3482],\n",
      "        [ 1.4669, -1.8694, -0.9573],\n",
      "        [ 0.0888,  0.6010,  1.5854],\n",
      "        [-1.3224,  1.2892, -0.8530],\n",
      "        [ 2.6859, -0.9210, -0.5731],\n",
      "        [-1.0702, -1.4322,  1.5538],\n",
      "        [-1.6613,  2.1010, -0.9266],\n",
      "        [ 0.3085,  2.6943,  1.2250],\n",
      "        [ 1.0342, -2.5960, -2.0630],\n",
      "        [-1.8373, -0.5042,  1.2573],\n",
      "        [ 2.5356, -1.3777, -1.4122],\n",
      "        [-1.0993, -1.4438,  0.0999],\n",
      "        [-1.3182,  2.7738,  1.3455],\n",
      "        [ 1.0349,  1.4843, -1.0806],\n",
      "        [ 0.1976, -0.9103, -0.9970],\n",
      "        [-1.1961, -0.5521,  2.0665],\n",
      "        [ 3.0788,  0.8173,  0.3980],\n",
      "        [-0.4631, -0.6249, -1.9659],\n",
      "        [-2.7981, -0.2006,  1.3624],\n",
      "        [ 2.5883,  3.0567, -0.6240],\n",
      "        [ 0.7492, -1.9856, -0.0255],\n",
      "        [-3.1259, -0.7681,  0.3092],\n",
      "        [ 2.4574,  2.3977,  0.1132],\n",
      "        [-1.6752, -1.0748,  2.7543],\n",
      "        [-1.0459, -1.5016, -3.0536]])\n",
      "{'nedges', 'cell', 'energy', 'sid', 'pos', 'batch', 'charge', 'fixed', 'cell_offsets', 'spin', 'atomic_numbers', 'edge_index', 'tags', 'pbc', 'natoms', 'forces'}\n"
     ]
    }
   ],
   "source": [
    "a = dataset[0]\n",
    "print(a.energy)\n",
    "print(a.forces)\n",
    "print(a.keys())"
   ]
  },
  {
   "cell_type": "code",
   "execution_count": null,
   "id": "995cb819",
   "metadata": {},
   "outputs": [],
   "source": []
  },
  {
   "cell_type": "code",
   "execution_count": 4,
   "id": "ac9f9eeb",
   "metadata": {},
   "outputs": [
    {
     "data": {
      "text/plain": [
       "tensor([[-1.4186e+00, -7.2142e-01, -8.2763e-01],\n",
       "        [-1.1633e-01, -1.9197e+00,  1.0299e+00],\n",
       "        [ 1.2465e+00, -1.5985e+00, -1.4024e+00],\n",
       "        [ 1.2226e+00, -2.6262e-01, -8.0806e-03],\n",
       "        [ 2.4437e+00,  6.8134e-01, -3.1273e-01],\n",
       "        [-1.4379e+00, -1.4291e-02,  5.7725e-01],\n",
       "        [ 2.3315e+00, -2.5933e-01,  4.6491e-01],\n",
       "        [-3.4820e+00,  4.4568e+00, -1.1274e+01],\n",
       "        [-1.8629e+00, -1.0131e-01, -6.8300e-01],\n",
       "        [-9.5960e-01, -5.1208e-01, -9.1497e-01],\n",
       "        [-3.2814e+00, -1.5809e+00,  3.0908e+00],\n",
       "        [ 2.6168e+00, -3.3857e+00, -2.3260e+00],\n",
       "        [ 2.4991e+00,  2.9580e+00,  2.3120e+00],\n",
       "        [ 2.5357e-01, -2.2161e-01, -2.5444e+00],\n",
       "        [-1.6051e+00, -2.1053e+00,  1.7728e+00],\n",
       "        [-3.0454e-01,  1.6183e-01, -1.3132e+00],\n",
       "        [-3.8556e-01, -4.3667e-01, -8.1668e-01],\n",
       "        [ 7.4885e-01,  2.8581e+00,  1.5823e+00],\n",
       "        [-4.2495e-01, -4.0802e-01, -2.4736e+00],\n",
       "        [ 2.7168e-01, -2.5362e-01,  2.3107e-01],\n",
       "        [-8.1415e-01,  1.2785e+00,  1.6727e+00],\n",
       "        [ 1.2549e+00,  2.0101e+00, -1.2117e+00],\n",
       "        [-1.1148e+00, -1.7038e+00, -1.1906e+00],\n",
       "        [-5.3015e-01, -1.7884e-01,  1.7968e+00],\n",
       "        [ 1.2309e+00,  1.9481e+00,  3.0323e-01],\n",
       "        [-2.4887e-01,  6.0972e-02, -1.9291e-01],\n",
       "        [-1.4772e+00,  3.3225e-01, -2.0758e+00],\n",
       "        [-1.5932e-01,  1.0670e+00,  1.9216e+00],\n",
       "        [-6.8791e-01, -2.4020e+00,  4.8185e-01],\n",
       "        [ 9.1460e-01,  1.8989e+00,  9.7935e-01],\n",
       "        [-4.0562e-02,  5.5198e-01, -2.3140e+00],\n",
       "        [-1.4196e+00, -1.4558e+00, -2.0600e+00],\n",
       "        [ 6.0387e-02, -7.0751e-01,  2.2405e+00],\n",
       "        [-5.5473e-01,  2.1122e+00,  9.1485e-01],\n",
       "        [ 1.8736e+00,  1.2761e+00, -1.3030e+00],\n",
       "        [-2.7069e-01,  1.8766e+00,  1.0295e-01],\n",
       "        [ 1.4489e-01, -3.6039e-01,  2.3506e+00],\n",
       "        [ 1.3265e+00, -1.6855e+00, -8.9366e-01],\n",
       "        [ 1.2945e+00,  6.4908e-01,  2.1510e+00],\n",
       "        [-1.8383e+00,  1.3814e+00,  2.2004e-01],\n",
       "        [ 1.2553e+00,  4.9988e-01, -1.7807e+00],\n",
       "        [-1.0410e+00, -4.4811e-01,  1.0677e+00],\n",
       "        [ 1.3772e-01,  2.5931e-01, -2.0815e-02],\n",
       "        [-3.9385e-02,  3.2072e-01, -4.7905e-02],\n",
       "        [-1.4743e-02, -2.0390e-02, -1.0038e-03],\n",
       "        [-1.6157e-01, -7.2879e-01, -5.3633e-01],\n",
       "        [-4.6480e-02,  1.4079e-02,  4.8254e-02],\n",
       "        [ 2.1202e-01, -1.0703e-01,  4.1798e-01],\n",
       "        [ 8.6990e-02,  6.1572e-01,  3.2238e-01],\n",
       "        [-6.1402e-01,  3.1960e-01, -1.5670e+00],\n",
       "        [ 5.4049e-01, -1.3652e+00,  7.8275e-01],\n",
       "        [ 2.1060e-01,  6.3222e-01,  2.2448e-01],\n",
       "        [-5.6656e-02,  2.0851e-01,  5.9239e-02],\n",
       "        [-1.2882e-01,  1.9531e-01, -2.2305e-01],\n",
       "        [ 1.5133e-01, -2.2555e-01,  2.2954e-01],\n",
       "        [ 1.0840e-01, -9.7604e-02,  5.6463e-01],\n",
       "        [-2.7599e-02, -6.6751e-03,  1.4419e-01],\n",
       "        [ 2.3887e-01,  1.6320e-01,  3.0169e-01],\n",
       "        [ 5.4082e-02,  4.9215e-02,  3.4811e-02],\n",
       "        [ 2.5091e-01,  5.4327e-02, -9.9460e-01],\n",
       "        [-5.7982e-02, -1.5531e-02,  3.8937e-03],\n",
       "        [-3.6683e-01, -1.9247e-01,  1.1266e-01],\n",
       "        [-1.9876e-01,  9.6816e-02,  1.0644e+00],\n",
       "        [ 1.3871e+00,  9.2355e-01, -4.3275e-01],\n",
       "        [-1.2001e+00, -6.3252e-01, -1.3574e+00],\n",
       "        [-4.5177e-02, -3.4597e-02,  2.2222e-01],\n",
       "        [ 1.1479e-01,  6.3207e-02,  2.1517e-01],\n",
       "        [ 2.8294e-01,  1.7391e-01,  1.4845e-01],\n",
       "        [-3.1179e-01, -1.9053e-01, -3.2623e-02],\n",
       "        [-1.8355e-01, -1.1493e-01,  1.2755e-01],\n",
       "        [-1.3975e-01, -2.5125e-02,  1.2326e-01],\n",
       "        [-1.0311e-01,  4.7972e-01, -7.1596e-02],\n",
       "        [-1.1546e-02,  1.9254e-02, -3.4657e-02],\n",
       "        [-1.3014e-01, -7.2665e-01, -5.1972e-01],\n",
       "        [ 6.9197e-03, -5.6696e-02,  7.1558e-03],\n",
       "        [ 1.5705e-01,  2.9106e-02,  4.2197e-01],\n",
       "        [ 1.7667e-01,  8.7617e-01,  7.0687e-01],\n",
       "        [-7.3628e-01,  3.9149e-01, -1.5332e+00],\n",
       "        [ 5.4126e-01, -1.4886e+00,  6.4994e-01],\n",
       "        [ 9.3077e-02,  3.5982e-01,  2.4029e-01],\n",
       "        [-3.9380e-02,  2.3567e-01, -4.0157e-02],\n",
       "        [-1.3559e-01,  2.6739e-01, -2.0966e-01],\n",
       "        [ 1.3989e-01, -1.7523e-01,  2.9320e-01],\n",
       "        [ 1.2950e-01, -2.3281e-02,  1.9372e-01],\n",
       "        [-7.2042e-02, -8.1221e-03,  8.1805e-02],\n",
       "        [-4.8504e-02,  4.5894e-01,  4.4781e-02],\n",
       "        [-1.2352e-01, -2.1690e-01,  2.6484e-01],\n",
       "        [-1.0018e+00, -4.7449e-02, -1.1347e+00],\n",
       "        [ 1.9419e-02, -1.6389e-02,  1.1998e-01],\n",
       "        [ 3.8917e-01, -1.8261e-01, -4.0570e-01],\n",
       "        [-2.0523e+00, -2.5743e+00,  2.1419e+00],\n",
       "        [ 4.2043e+00, -5.8175e+00,  9.4970e+00],\n",
       "        [ 6.7759e-01,  2.1415e+00,  4.6507e-01],\n",
       "        [ 6.2507e-02,  1.5066e-01, -1.2123e-01],\n",
       "        [-1.3508e-02,  2.1198e-01,  1.8682e-02],\n",
       "        [-3.9399e-02,  2.2592e-01,  1.9125e-01],\n",
       "        [ 1.6557e-01, -1.7548e-01, -3.6224e-01],\n",
       "        [ 1.0303e-01,  1.1300e-02, -1.7817e-01],\n",
       "        [ 3.2442e-02, -1.0441e-01, -8.7118e-02],\n",
       "        [-4.8635e-02,  4.2960e-02, -4.2796e-01],\n",
       "        [-4.1739e-03,  3.4594e-02, -9.5510e-02],\n",
       "        [-2.0619e-01,  7.8133e-01,  6.4531e-01],\n",
       "        [ 4.0589e-02, -4.7734e-02,  5.3203e-02],\n",
       "        [ 1.7352e-01, -3.6637e-01,  1.6566e-01],\n",
       "        [ 3.0828e-01, -1.0663e+00, -7.9821e-01],\n",
       "        [-6.2920e-01,  1.5388e+00, -8.0508e-01],\n",
       "        [ 2.2706e-01, -2.5509e-01,  1.7586e+00],\n",
       "        [ 2.4346e-02, -1.7925e-01, -1.3311e-01],\n",
       "        [-3.5163e-02, -4.3290e-02, -2.4449e-01],\n",
       "        [-1.1669e-01,  1.3413e-01, -3.3285e-01],\n",
       "        [ 1.0762e-01, -2.5822e-01,  2.5602e-01],\n",
       "        [ 7.0734e-02, -2.2990e-01,  3.8472e-02]])"
      ]
     },
     "execution_count": 4,
     "metadata": {},
     "output_type": "execute_result"
    }
   ],
   "source": [
    "dataset[0].forces"
   ]
  },
  {
   "cell_type": "code",
   "execution_count": 15,
   "id": "1695a9f1",
   "metadata": {},
   "outputs": [
    {
     "data": {
      "text/plain": [
       "{'source': 'orbnet_denali/orbnet_small_sil_01917_32a8ee422409aa77d5e88000b5dbe379e945715cb7d36030d139db5536749642_309321_0_1/orca.tar.zst',\n",
       " 'reference_source': None,\n",
       " 'data_id': 'orbnet_denali',\n",
       " 'charge': 0,\n",
       " 'spin': 1,\n",
       " 'num_atoms': 12,\n",
       " 'num_electrons': 70,\n",
       " 'num_ecp_electrons': 0,\n",
       " 'n_scf_steps': 16,\n",
       " 'n_basis': 325,\n",
       " 'unrestricted': False,\n",
       " 'nl_energy': 7.659100432390547,\n",
       " 'integrated_densities': array([35.00000775, 35.00000775, 70.00001551]),\n",
       " 'homo_energy': array([-8.39484865]),\n",
       " 'homo_lumo_gap': array([7.77845633]),\n",
       " 's_squared': 0.0,\n",
       " 's_squared_dev': 0.0,\n",
       " 'warnings': ['B97M-V or wB97M-V functional requested.libXC variant has now been activated.Any manually given DFX/HFX/RangeSep scaling parameters are IGNORED!',\n",
       "  'Analytic gradients for DFT-NL dispersion can only be done using the self-consistent method,Switching to SCNL',\n",
       "  'Self-consistent DFT-NL dispersion not compatible with AutoTRAH.Switching AutoTRAH off'],\n",
       " 'mulliken_charges': array([-0.601188,  0.402737, -0.306437, -0.273615,  0.359752, -0.190522,\n",
       "        -0.261241,  0.319448,  0.390885, -0.137111, -0.083841,  0.381132]),\n",
       " 'lowdin_charges': array([-0.325248,  0.404684, -0.350472, -0.237446,  0.549187, -0.37472 ,\n",
       "        -0.07254 ,  0.075582,  0.147019, -0.02978 ,  0.002299,  0.211436]),\n",
       " 'nbo_charges': array([-1.20869,  1.57606, -0.76161, -0.83832,  1.42779, -0.72604,\n",
       "        -0.36232,  0.25097,  0.55001, -0.20471, -0.18052,  0.4774 ]),\n",
       " 'composition': 'C1H5N1O3Si2'}"
      ]
     },
     "execution_count": 15,
     "metadata": {},
     "output_type": "execute_result"
    }
   ],
   "source": [
    "dataset.get_atoms(0).info"
   ]
  },
  {
   "cell_type": "markdown",
   "id": "20702384",
   "metadata": {},
   "source": [
    "### read in aselmdb"
   ]
  },
  {
   "cell_type": "code",
   "execution_count": 8,
   "id": "8f4560e3",
   "metadata": {},
   "outputs": [],
   "source": [
    "# Source and destination paths\n",
    "src_path = \"/data/ishan-amin/OMOL/val/data0000.aselmdb\"\n",
    "dst_path = \"/home/yuejian/project/MLFF-distill/test_dump_aselmdb/copy_0/copy_data0001.aselmdb\"\n",
    "\n",
    "connect_args = {\n",
    "    \"readonly\": False,\n",
    "    \"use_lock_file\": False,\n",
    "}\n",
    "\n",
    "# Open source DB in readonly mode\n",
    "src_db = ase.db.connect(src_path, **connect_args)\n",
    "# Open/create destination DB for writing\n",
    "# dst_db = ase.db.connect(dst_path, use_lock_file=False)"
   ]
  },
  {
   "cell_type": "code",
   "execution_count": 18,
   "id": "e8a2cb8a",
   "metadata": {},
   "outputs": [
    {
     "name": "stderr",
     "output_type": "stream",
     "text": [
      "  0%|          | 0/34526 [00:00<?, ?it/s]"
     ]
    },
    {
     "name": "stdout",
     "output_type": "stream",
     "text": [
      "SinglePointCalculator(energy=-171993.7618088697, forces=...)\n",
      "dict_keys(['energy', 'forces'])\n",
      "dict_keys(['source', 'reference_source', 'data_id', 'charge', 'spin', 'num_atoms', 'num_electrons', 'num_ecp_electrons', 'n_scf_steps', 'n_basis', 'unrestricted', 'nl_energy', 'integrated_densities', 'homo_energy', 'homo_lumo_gap', 's_squared', 's_squared_dev', 'warnings', 'mulliken_charges', 'lowdin_charges', 'composition'])\n"
     ]
    },
    {
     "name": "stderr",
     "output_type": "stream",
     "text": [
      "\n"
     ]
    },
    {
     "ename": "NameError",
     "evalue": "name 'dst_db' is not defined",
     "output_type": "error",
     "traceback": [
      "\u001b[0;31m---------------------------------------------------------------------------\u001b[0m",
      "\u001b[0;31mNameError\u001b[0m                                 Traceback (most recent call last)",
      "Cell \u001b[0;32mIn[18], line 10\u001b[0m\n\u001b[1;32m      7\u001b[0m key \u001b[38;5;241m=\u001b[39m \u001b[38;5;28mgetattr\u001b[39m(row, \u001b[38;5;124m'\u001b[39m\u001b[38;5;124mkey\u001b[39m\u001b[38;5;124m'\u001b[39m, \u001b[38;5;28;01mNone\u001b[39;00m)\n\u001b[1;32m      8\u001b[0m \u001b[38;5;66;03m# print(f\"Processing row with key: {key}\")\u001b[39;00m\n\u001b[1;32m      9\u001b[0m \u001b[38;5;66;03m# Write to the new database, preserving key and metadata\u001b[39;00m\n\u001b[0;32m---> 10\u001b[0m \u001b[43mdst_db\u001b[49m\u001b[38;5;241m.\u001b[39mwrite(atoms, data\u001b[38;5;241m=\u001b[39mdata)\n\u001b[1;32m     11\u001b[0m \u001b[38;5;66;03m# dst_db.write(atoms, key=key, data=data)\u001b[39;00m\n\u001b[1;32m     12\u001b[0m \u001b[38;5;28;01mif\u001b[39;00m idx \u001b[38;5;241m>\u001b[39m \u001b[38;5;241m1\u001b[39m:\n",
      "\u001b[0;31mNameError\u001b[0m: name 'dst_db' is not defined"
     ]
    }
   ],
   "source": [
    "for idx, row in enumerate(tqdm(src_db.select(),total=len(src_db))):\n",
    "    atoms = row.toatoms()  # Get Atoms object\n",
    "    print(atoms.calc)\n",
    "    print(atoms.calc.results.keys())\n",
    "    print(row.data.keys())\n",
    "    data = dict(row.data) if hasattr(row, 'data') else {}\n",
    "    key = getattr(row, 'key', None)\n",
    "    # print(f\"Processing row with key: {key}\")\n",
    "    # Write to the new database, preserving key and metadata\n",
    "    dst_db.write(atoms, data=data)\n",
    "    # dst_db.write(atoms, key=key, data=data)\n",
    "    if idx > 1:\n",
    "        break"
   ]
  },
  {
   "cell_type": "code",
   "execution_count": 7,
   "id": "0f47949c",
   "metadata": {},
   "outputs": [
    {
     "data": {
      "text/plain": [
       "49835"
      ]
     },
     "execution_count": 7,
     "metadata": {},
     "output_type": "execute_result"
    }
   ],
   "source": [
    "len(src_db)  # Get the number of rows in the source DB"
   ]
  },
  {
   "cell_type": "code",
   "execution_count": 8,
   "id": "46615e19",
   "metadata": {},
   "outputs": [
    {
     "name": "stderr",
     "output_type": "stream",
     "text": [
      "  5%|▍         | 2250/49835 [00:03<01:23, 570.21it/s]\n"
     ]
    },
    {
     "ename": "KeyboardInterrupt",
     "evalue": "",
     "output_type": "error",
     "traceback": [
      "\u001b[0;31m---------------------------------------------------------------------------\u001b[0m",
      "\u001b[0;31mKeyboardInterrupt\u001b[0m                         Traceback (most recent call last)",
      "Cell \u001b[0;32mIn[8], line 7\u001b[0m\n\u001b[1;32m      4\u001b[0m key \u001b[38;5;241m=\u001b[39m \u001b[38;5;28mgetattr\u001b[39m(row, \u001b[38;5;124m'\u001b[39m\u001b[38;5;124mkey\u001b[39m\u001b[38;5;124m'\u001b[39m, \u001b[38;5;28;01mNone\u001b[39;00m)\n\u001b[1;32m      5\u001b[0m \u001b[38;5;66;03m# print(f\"Processing row with key: {key}\")\u001b[39;00m\n\u001b[1;32m      6\u001b[0m \u001b[38;5;66;03m# Write to the new database, preserving key and metadata\u001b[39;00m\n\u001b[0;32m----> 7\u001b[0m \u001b[43mdst_db\u001b[49m\u001b[38;5;241;43m.\u001b[39;49m\u001b[43mwrite\u001b[49m\u001b[43m(\u001b[49m\u001b[43matoms\u001b[49m\u001b[43m,\u001b[49m\u001b[43m \u001b[49m\u001b[43mdata\u001b[49m\u001b[38;5;241;43m=\u001b[39;49m\u001b[43mdata\u001b[49m\u001b[43m)\u001b[49m\n\u001b[1;32m      8\u001b[0m \u001b[38;5;66;03m# dst_db.write(atoms, key=key, data=data)\u001b[39;00m\n",
      "File \u001b[0;32m~/miniconda3/envs/fairchem_V2/lib/python3.10/site-packages/ase/parallel.py:274\u001b[0m, in \u001b[0;36mparallel_function.<locals>.new_func\u001b[0;34m(*args, **kwargs)\u001b[0m\n\u001b[1;32m    268\u001b[0m \u001b[38;5;129m@functools\u001b[39m\u001b[38;5;241m.\u001b[39mwraps(func)\n\u001b[1;32m    269\u001b[0m \u001b[38;5;28;01mdef\u001b[39;00m \u001b[38;5;21mnew_func\u001b[39m(\u001b[38;5;241m*\u001b[39margs, \u001b[38;5;241m*\u001b[39m\u001b[38;5;241m*\u001b[39mkwargs):\n\u001b[1;32m    270\u001b[0m     \u001b[38;5;28;01mif\u001b[39;00m (world\u001b[38;5;241m.\u001b[39msize \u001b[38;5;241m==\u001b[39m \u001b[38;5;241m1\u001b[39m \u001b[38;5;129;01mor\u001b[39;00m\n\u001b[1;32m    271\u001b[0m         args \u001b[38;5;129;01mand\u001b[39;00m \u001b[38;5;28mgetattr\u001b[39m(args[\u001b[38;5;241m0\u001b[39m], \u001b[38;5;124m'\u001b[39m\u001b[38;5;124mserial\u001b[39m\u001b[38;5;124m'\u001b[39m, \u001b[38;5;28;01mFalse\u001b[39;00m) \u001b[38;5;129;01mor\u001b[39;00m\n\u001b[1;32m    272\u001b[0m             \u001b[38;5;129;01mnot\u001b[39;00m kwargs\u001b[38;5;241m.\u001b[39mpop(\u001b[38;5;124m'\u001b[39m\u001b[38;5;124mparallel\u001b[39m\u001b[38;5;124m'\u001b[39m, \u001b[38;5;28;01mTrue\u001b[39;00m)):\n\u001b[1;32m    273\u001b[0m         \u001b[38;5;66;03m# Disable:\u001b[39;00m\n\u001b[0;32m--> 274\u001b[0m         \u001b[38;5;28;01mreturn\u001b[39;00m \u001b[43mfunc\u001b[49m\u001b[43m(\u001b[49m\u001b[38;5;241;43m*\u001b[39;49m\u001b[43margs\u001b[49m\u001b[43m,\u001b[49m\u001b[43m \u001b[49m\u001b[38;5;241;43m*\u001b[39;49m\u001b[38;5;241;43m*\u001b[39;49m\u001b[43mkwargs\u001b[49m\u001b[43m)\u001b[49m\n\u001b[1;32m    276\u001b[0m     ex \u001b[38;5;241m=\u001b[39m \u001b[38;5;28;01mNone\u001b[39;00m\n\u001b[1;32m    277\u001b[0m     result \u001b[38;5;241m=\u001b[39m \u001b[38;5;28;01mNone\u001b[39;00m\n",
      "File \u001b[0;32m~/miniconda3/envs/fairchem_V2/lib/python3.10/site-packages/ase/db/core.py:291\u001b[0m, in \u001b[0;36mlock.<locals>.new_method\u001b[0;34m(self, *args, **kwargs)\u001b[0m\n\u001b[1;32m    288\u001b[0m \u001b[38;5;129m@functools\u001b[39m\u001b[38;5;241m.\u001b[39mwraps(method)\n\u001b[1;32m    289\u001b[0m \u001b[38;5;28;01mdef\u001b[39;00m \u001b[38;5;21mnew_method\u001b[39m(\u001b[38;5;28mself\u001b[39m, \u001b[38;5;241m*\u001b[39margs, \u001b[38;5;241m*\u001b[39m\u001b[38;5;241m*\u001b[39mkwargs):\n\u001b[1;32m    290\u001b[0m     \u001b[38;5;28;01mif\u001b[39;00m \u001b[38;5;28mself\u001b[39m\u001b[38;5;241m.\u001b[39mlock \u001b[38;5;129;01mis\u001b[39;00m \u001b[38;5;28;01mNone\u001b[39;00m:\n\u001b[0;32m--> 291\u001b[0m         \u001b[38;5;28;01mreturn\u001b[39;00m \u001b[43mmethod\u001b[49m\u001b[43m(\u001b[49m\u001b[38;5;28;43mself\u001b[39;49m\u001b[43m,\u001b[49m\u001b[43m \u001b[49m\u001b[38;5;241;43m*\u001b[39;49m\u001b[43margs\u001b[49m\u001b[43m,\u001b[49m\u001b[43m \u001b[49m\u001b[38;5;241;43m*\u001b[39;49m\u001b[38;5;241;43m*\u001b[39;49m\u001b[43mkwargs\u001b[49m\u001b[43m)\u001b[49m\n\u001b[1;32m    292\u001b[0m     \u001b[38;5;28;01melse\u001b[39;00m:\n\u001b[1;32m    293\u001b[0m         \u001b[38;5;28;01mwith\u001b[39;00m \u001b[38;5;28mself\u001b[39m\u001b[38;5;241m.\u001b[39mlock:\n",
      "File \u001b[0;32m~/miniconda3/envs/fairchem_V2/lib/python3.10/site-packages/ase/db/core.py:450\u001b[0m, in \u001b[0;36mDatabase.write\u001b[0;34m(self, atoms, key_value_pairs, data, id, **kwargs)\u001b[0m\n\u001b[1;32m    447\u001b[0m kvp \u001b[38;5;241m=\u001b[39m \u001b[38;5;28mdict\u001b[39m(key_value_pairs)  \u001b[38;5;66;03m# modify a copy\u001b[39;00m\n\u001b[1;32m    448\u001b[0m kvp\u001b[38;5;241m.\u001b[39mupdate(kwargs)\n\u001b[0;32m--> 450\u001b[0m \u001b[38;5;28mid\u001b[39m \u001b[38;5;241m=\u001b[39m \u001b[38;5;28;43mself\u001b[39;49m\u001b[38;5;241;43m.\u001b[39;49m\u001b[43m_write\u001b[49m\u001b[43m(\u001b[49m\u001b[43matoms\u001b[49m\u001b[43m,\u001b[49m\u001b[43m \u001b[49m\u001b[43mkvp\u001b[49m\u001b[43m,\u001b[49m\u001b[43m \u001b[49m\u001b[43mdata\u001b[49m\u001b[43m,\u001b[49m\u001b[43m \u001b[49m\u001b[38;5;28;43mid\u001b[39;49m\u001b[43m)\u001b[49m\n\u001b[1;32m    451\u001b[0m \u001b[38;5;28;01mreturn\u001b[39;00m \u001b[38;5;28mid\u001b[39m\n",
      "File \u001b[0;32m~/miniconda3/envs/fairchem_V2/lib/python3.10/site-packages/ase_db_backends/aselmdb.py:175\u001b[0m, in \u001b[0;36mLMDBDatabase._write\u001b[0;34m(self, atoms, key_value_pairs, data, idx)\u001b[0m\n\u001b[1;32m    169\u001b[0m         txn\u001b[38;5;241m.\u001b[39mput(\n\u001b[1;32m    170\u001b[0m             encode_key(\u001b[38;5;124m\"\u001b[39m\u001b[38;5;124mnextid\u001b[39m\u001b[38;5;124m\"\u001b[39m),\n\u001b[1;32m    171\u001b[0m             encode_object(nextid, compress\u001b[38;5;241m=\u001b[39m\u001b[38;5;28;01mTrue\u001b[39;00m, json_encode\u001b[38;5;241m=\u001b[39m\u001b[38;5;28;01mTrue\u001b[39;00m),\n\u001b[1;32m    172\u001b[0m         )\n\u001b[1;32m    173\u001b[0m \u001b[38;5;28;01mfinally\u001b[39;00m:\n\u001b[1;32m    174\u001b[0m     \u001b[38;5;66;03m# commit the txn if we're not in a context manager\u001b[39;00m\n\u001b[0;32m--> 175\u001b[0m     \u001b[38;5;28;43mself\u001b[39;49m\u001b[38;5;241;43m.\u001b[39;49m\u001b[43m_flush_txn\u001b[49m\u001b[43m(\u001b[49m\u001b[43mtxn\u001b[49m\u001b[43m)\u001b[49m\n\u001b[1;32m    177\u001b[0m \u001b[38;5;66;03m# check if id is in removed ids and remove accordingly\u001b[39;00m\n\u001b[1;32m    178\u001b[0m \u001b[38;5;28;01mif\u001b[39;00m idx \u001b[38;5;129;01min\u001b[39;00m \u001b[38;5;28mself\u001b[39m\u001b[38;5;241m.\u001b[39mdeleted_ids:\n",
      "File \u001b[0;32m~/miniconda3/envs/fairchem_V2/lib/python3.10/site-packages/ase_db_backends/aselmdb.py:221\u001b[0m, in \u001b[0;36mLMDBDatabase._flush_txn\u001b[0;34m(self, txn)\u001b[0m\n\u001b[1;32m    217\u001b[0m \u001b[38;5;28;01mdef\u001b[39;00m \u001b[38;5;21m_flush_txn\u001b[39m(\u001b[38;5;28mself\u001b[39m, txn):\n\u001b[1;32m    218\u001b[0m     \u001b[38;5;66;03m# If we have a txn attached to this object, we're in a context manager, so don't commit.\u001b[39;00m\n\u001b[1;32m    219\u001b[0m     \u001b[38;5;66;03m# otherwise, commit this so the txn gets cleaned up!\u001b[39;00m\n\u001b[1;32m    220\u001b[0m     \u001b[38;5;28;01mif\u001b[39;00m \u001b[38;5;129;01mnot\u001b[39;00m \u001b[38;5;28mhasattr\u001b[39m(\u001b[38;5;28mself\u001b[39m, \u001b[38;5;124m\"\u001b[39m\u001b[38;5;124mtxn\u001b[39m\u001b[38;5;124m\"\u001b[39m):\n\u001b[0;32m--> 221\u001b[0m         \u001b[43mtxn\u001b[49m\u001b[38;5;241;43m.\u001b[39;49m\u001b[43mcommit\u001b[49m\u001b[43m(\u001b[49m\u001b[43m)\u001b[49m\n",
      "\u001b[0;31mKeyboardInterrupt\u001b[0m: "
     ]
    }
   ],
   "source": [
    "for row in tqdm(src_db.select(),total=len(src_db)):\n",
    "    atoms = row.toatoms()  # Get Atoms object\n",
    "    data = dict(row.data) if hasattr(row, 'data') else {}\n",
    "    key = getattr(row, 'key', None)\n",
    "    # print(f\"Processing row with key: {key}\")\n",
    "    # Write to the new database, preserving key and metadata\n",
    "    dst_db.write(atoms, data=data)\n",
    "    # dst_db.write(atoms, key=key, data=data)\n"
   ]
  },
  {
   "cell_type": "code",
   "execution_count": 9,
   "id": "9bac7c74",
   "metadata": {},
   "outputs": [],
   "source": [
    "src_db.close()  # Close the source database\n",
    "dst_db.close()  # Close the destination database"
   ]
  },
  {
   "cell_type": "code",
   "execution_count": 6,
   "id": "9cb8a4d4",
   "metadata": {},
   "outputs": [],
   "source": [
    "# load dataset\n",
    "dataset_path = \"/home/yuejian/project/MLFF-distill/test_dump_aselmdb/source\"\n",
    "a2g_args = {  \n",
    "    \"molecule_cell_size\": 120.0,\n",
    "    \"r_energy\": True,\n",
    "    \"r_forces\": True,\n",
    "    # \"r_stress\": True,\n",
    "    \"r_data_keys\": [ 'spin','charge', \"data_id\"],\n",
    "    # 'sid': 'data_id',\n",
    "\n",
    "}\n",
    "# select_args ={ \"data_id\":\"ani2x\"}\n",
    "# select_args ={\"selection\": [(\"charge\", \"=\", -1)] }\n",
    "select_args = {\n",
    "    \"filter\": lambda row: row._data.get(\"data_id\") == \"orbnet_denali\"\n",
    "}\n",
    "source_dataset = AseDBDataset({\n",
    "                        \"src\": dataset_path,\n",
    "                        \"a2g_args\": a2g_args,\n",
    "                        # \"select_args\": select_args,\n",
    "                        })"
   ]
  },
  {
   "cell_type": "code",
   "execution_count": 7,
   "id": "97bf8ed3",
   "metadata": {},
   "outputs": [],
   "source": [
    "# load dataset\n",
    "dataset_path = \"/home/yuejian/project/MLFF-distill/test_dump_aselmdb/copy\"\n",
    "a2g_args = {  \n",
    "    \"molecule_cell_size\": 120.0,\n",
    "    \"r_energy\": True,\n",
    "    \"r_forces\": True,\n",
    "    # \"r_stress\": True,\n",
    "    \"r_data_keys\": [ 'spin','charge', \"data_id\"],\n",
    "    # 'sid': 'data_id',\n",
    "\n",
    "}\n",
    "# select_args ={ \"data_id\":\"ani2x\"}\n",
    "# select_args ={\"selection\": [(\"charge\", \"=\", -1)] }\n",
    "select_args = {\n",
    "    \"filter\": lambda row: row._data.get(\"data_id\") == \"orbnet_denali\"\n",
    "}\n",
    "copy_dataset = AseDBDataset({\n",
    "                        \"src\": dataset_path,\n",
    "                        \"a2g_args\": a2g_args,\n",
    "                        # \"select_args\": select_args,\n",
    "                        })"
   ]
  },
  {
   "cell_type": "code",
   "execution_count": 27,
   "id": "5e590c8e",
   "metadata": {},
   "outputs": [
    {
     "name": "stderr",
     "output_type": "stream",
     "text": [
      "100%|██████████| 49835/49835 [01:10<00:00, 707.43it/s]\n"
     ]
    }
   ],
   "source": [
    "for source,copy in tqdm(zip(source_dataset, copy_dataset), total=len(source_dataset)):\n",
    "    # check if each argument matches between source and copy\n",
    "    # AtomicData(atomic_numbers=[14], batch=[14], cell=[1, 3, 3], cell_offsets=[0, 3], charge=[1], data_id=[1], edge_index=[2, 0], energy=[1], fixed=[14], forces=[14, 3], natoms=[1], nedges=[1], pbc=[1, 3], pos=[14, 3], sid=[1], source=[1], spin=[1], tags=[14])\n",
    "    for key in source.keys():\n",
    "        if key not in copy.keys():\n",
    "            print(f\"Key {key} not found in copy dataset\")\n",
    "            continue\n",
    "        if isinstance(source[key], torch.Tensor):\n",
    "            if not torch.equal(source[key], copy[key]):\n",
    "                print(f\"Mismatch in tensor for key {key}\")\n",
    "        elif isinstance(source[key], np.ndarray):\n",
    "            if not np.array_equal(source[key], copy[key]):\n",
    "                print(f\"Mismatch in array for key {key}\")\n",
    "        else:\n",
    "            if source[key] != copy[key]:\n",
    "                print(f\"Mismatch in value for key {key}: {source[key]} != {copy[key]}\")\n",
    "    "
   ]
  },
  {
   "cell_type": "code",
   "execution_count": 20,
   "id": "e763cd0b",
   "metadata": {},
   "outputs": [
    {
     "data": {
      "text/plain": [
       "{'atomic_numbers',\n",
       " 'batch',\n",
       " 'cell',\n",
       " 'cell_offsets',\n",
       " 'charge',\n",
       " 'data_id',\n",
       " 'edge_index',\n",
       " 'energy',\n",
       " 'fixed',\n",
       " 'forces',\n",
       " 'natoms',\n",
       " 'nedges',\n",
       " 'pbc',\n",
       " 'pos',\n",
       " 'sid',\n",
       " 'source',\n",
       " 'spin',\n",
       " 'tags'}"
      ]
     },
     "execution_count": 20,
     "metadata": {},
     "output_type": "execute_result"
    }
   ],
   "source": [
    "copy.keys()"
   ]
  },
  {
   "cell_type": "code",
   "execution_count": 14,
   "id": "5f171519",
   "metadata": {},
   "outputs": [
    {
     "data": {
      "text/plain": [
       "AtomicData(atomic_numbers=[14], batch=[14], cell=[1, 3, 3], cell_offsets=[0, 3], charge=[1], data_id=[1], edge_index=[2, 0], energy=[1], fixed=[14], forces=[14, 3], natoms=[1], nedges=[1], pbc=[1, 3], pos=[14, 3], sid=[1], source=[1], spin=[1], tags=[14])"
      ]
     },
     "execution_count": 14,
     "metadata": {},
     "output_type": "execute_result"
    }
   ],
   "source": [
    "source"
   ]
  },
  {
   "cell_type": "code",
   "execution_count": 11,
   "id": "5135c43d",
   "metadata": {},
   "outputs": [
    {
     "data": {
      "text/plain": [
       "['ani1xbb/aniBB_014_569966_0_1/orca.tar.zst']"
      ]
     },
     "execution_count": 11,
     "metadata": {},
     "output_type": "execute_result"
    }
   ],
   "source": [
    "source.source"
   ]
  },
  {
   "cell_type": "code",
   "execution_count": 26,
   "id": "9dad6b69",
   "metadata": {},
   "outputs": [
    {
     "data": {
      "text/plain": [
       "(tensor([[128.2628, 138.1711, 127.4267],\n",
       "         [127.7452, 137.1824, 126.3279],\n",
       "         [127.7188, 137.6234, 125.1517],\n",
       "         [127.5193, 138.2895, 128.2149],\n",
       "         [129.2468, 137.9889, 127.8587],\n",
       "         [128.3287, 139.1104, 126.8776],\n",
       "         [127.5184, 135.9038, 126.6964],\n",
       "         [126.8101, 134.9888, 125.8729],\n",
       "         [125.5702, 134.3704, 126.4981],\n",
       "         [125.6232, 133.7381, 127.5706]]),\n",
       " tensor([[128.2628, 138.1711, 127.4267],\n",
       "         [127.7452, 137.1824, 126.3279],\n",
       "         [127.7188, 137.6234, 125.1517],\n",
       "         [127.5193, 138.2895, 128.2149],\n",
       "         [129.2468, 137.9889, 127.8587],\n",
       "         [128.3287, 139.1104, 126.8776],\n",
       "         [127.5184, 135.9038, 126.6964],\n",
       "         [126.8101, 134.9888, 125.8729],\n",
       "         [125.5702, 134.3704, 126.4981],\n",
       "         [125.6232, 133.7381, 127.5706]]))"
      ]
     },
     "execution_count": 26,
     "metadata": {},
     "output_type": "execute_result"
    }
   ],
   "source": [
    "source_dataset[5].pos[:10,:], copy_dataset[5].pos[:10,:]"
   ]
  }
 ],
 "metadata": {
  "kernelspec": {
   "display_name": "fairchemV2",
   "language": "python",
   "name": "python3"
  },
  "language_info": {
   "codemirror_mode": {
    "name": "ipython",
    "version": 3
   },
   "file_extension": ".py",
   "mimetype": "text/x-python",
   "name": "python",
   "nbconvert_exporter": "python",
   "pygments_lexer": "ipython3",
   "version": "3.10.16"
  }
 },
 "nbformat": 4,
 "nbformat_minor": 5
}
