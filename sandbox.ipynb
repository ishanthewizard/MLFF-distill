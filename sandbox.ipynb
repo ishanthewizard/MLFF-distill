{
 "cells": [
  {
   "cell_type": "code",
   "execution_count": 1,
   "id": "d3b83dc0",
   "metadata": {},
   "outputs": [
    {
     "name": "stderr",
     "output_type": "stream",
     "text": [
      "/home/ishan-amin/miniconda3/envs/fairchemV2/lib/python3.10/site-packages/tqdm/auto.py:21: TqdmWarning: IProgress not found. Please update jupyter and ipywidgets. See https://ipywidgets.readthedocs.io/en/stable/user_install.html\n",
      "  from .autonotebook import tqdm as notebook_tqdm\n"
     ]
    }
   ],
   "source": [
    "import torch \n",
    "from src_v2.distill_datasets import LmdbDataset\n",
    "from src_v2.distill_datasets import CombinedDataset, CombinedDatasetTrain, CombinedDatasetVal, LmdbDataset\n",
    "from fairchem.core.common.registry import registry\n",
    "from fairchem.core.datasets.ase_datasets import AseDBDataset\n",
    "import numpy as np\n",
    "from tqdm import tqdm\n",
    "from torch.utils.data import Subset"
   ]
  },
  {
   "cell_type": "code",
   "execution_count": 3,
   "id": "ee9c5719",
   "metadata": {},
   "outputs": [
    {
     "name": "stdout",
     "output_type": "stream",
     "text": [
      "Total entries across all LMDB files jacs: 300\n",
      "DATASET LEN: 300\n",
      "Relative error: 5.78 %\n"
     ]
    }
   ],
   "source": [
    "a2g_args = {  \n",
    "    # \"molecule_cell_size\": 120.0,\n",
    "    \"r_energy\": True,\n",
    "    \"r_forces\": True,\n",
    "}\n",
    "# teacher_labels_folder = '/data/ishan-amin/hessian_proj_data/labels/SPICE_labels/mace_off_large_SpiceAminos/force_jacobians'\n",
    "# teacher_labels_folder =  '/data/ishan-amin/hessian_proj_data/labels/md22_labels/jmp-large_buckyball-catcher/force_jacobians'\n",
    "teacher_labels_folder = '/data/ishan-amin/OMOL/TOY/labels/ligand_pocket_300/force_jacobians'\n",
    "\n",
    "dataset = LmdbDataset(teacher_labels_folder)\n",
    "\n",
    "print(f\"DATASET LEN: {len(dataset)}\")\n",
    "res = 0\n",
    "for i in range(len(dataset)):\n",
    "    hessian = dataset[i]\n",
    "    num_atoms = int(np.sqrt(hessian.shape[0] / 9))\n",
    "    hessian = hessian.reshape(num_atoms, 3, num_atoms, 3)\n",
    "    rel_err_assym = (hessian - hessian.permute(2,3,0,1)).abs().mean() / hessian.abs().mean()\n",
    "    res = res * (i / (i + 1)) + (rel_err_assym / (i + 1))\n",
    "print(f\"Relative error: {(res * 100):.2f} %\")"
   ]
  },
  {
   "cell_type": "code",
   "execution_count": 14,
   "id": "9ef1387b",
   "metadata": {},
   "outputs": [
    {
     "name": "stdout",
     "output_type": "stream",
     "text": [
      "Total entries across all LMDB files jacs: 300\n",
      "DATASET LEN: 300\n",
      "Relative error between datasets: 0.06 %\n"
     ]
    }
   ],
   "source": [
    "teacher_labels_folder2 = '/data/ishan-amin/OMOL/TOY/labels/ligand_pocket_300/FINAL/force_jacobians'\n",
    "dataset2 = LmdbDataset(teacher_labels_folder2)\n",
    "print(f\"DATASET LEN: {len(dataset)}\")\n",
    "res = 0\n",
    "for i in range(len(dataset)):\n",
    "    hessian_f = dataset[i]\n",
    "    hessian2_f = dataset2[i]\n",
    "    num_atoms = int(np.sqrt(hessian_f.shape[0] / 9))\n",
    "    hessian = hessian_f.reshape(num_atoms, 3, num_atoms, 3)\n",
    "    rel_err_dataset = (hessian_f - hessian2_f).abs().mean() / hessian_f.abs().mean()\n",
    "    res = res * (i / (i + 1)) + (rel_err_dataset / (i + 1))\n",
    "print(f\"Relative error between datasets: {(res * 100):.2f} %\")"
   ]
  },
  {
   "cell_type": "code",
   "execution_count": null,
   "id": "6bcf8768",
   "metadata": {},
   "outputs": [],
   "source": [
    "teacher_forces_folder = '/data/ishan-amin/OMOL/TOY/labels/ligand_pocket_300/V2/val_forces'\n",
    "dataset2 = LmdbDataset(tebacher_labels_folder2)"
   ]
  },
  {
   "cell_type": "code",
   "execution_count": 4,
   "id": "038c8b93",
   "metadata": {},
   "outputs": [
    {
     "name": "stdout",
     "output_type": "stream",
     "text": [
      "300\n"
     ]
    }
   ],
   "source": [
    "a2g_args = {  \n",
    "    # \"molecule_cell_size\": 120.0,\n",
    "    \"r_energy\": True,\n",
    "    \"r_forces\": True,\n",
    "}\n",
    "path = '/data/ishan-amin/OMOL/TOY/ligand_pocket_300/val'\n",
    "dataset = AseDBDataset({\n",
    "                        \"src\": path,\n",
    "                        \"a2g_args\": a2g_args,\n",
    "                        })\n",
    "print(len(dataset))"
   ]
  }
 ],
 "metadata": {
  "kernelspec": {
   "display_name": "fairchemV2",
   "language": "python",
   "name": "python3"
  },
  "language_info": {
   "codemirror_mode": {
    "name": "ipython",
    "version": 3
   },
   "file_extension": ".py",
   "mimetype": "text/x-python",
   "name": "python",
   "nbconvert_exporter": "python",
   "pygments_lexer": "ipython3",
   "version": "3.10.16"
  }
 },
 "nbformat": 4,
 "nbformat_minor": 5
}
